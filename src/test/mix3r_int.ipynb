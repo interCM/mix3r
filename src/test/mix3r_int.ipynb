{
 "cells": [
  {
   "cell_type": "code",
   "execution_count": 1,
   "id": "89b942ed",
   "metadata": {},
   "outputs": [],
   "source": [
    "import numpy as np\n",
    "import pandas as pd\n",
    "import numba as nb\n",
    "from scipy.integrate import quad, dblquad\n",
    "from scipy.stats import multivariate_normal, norm\n",
    "from scipy.special import roots_legendre\n",
    "import matplotlib.pyplot as plt\n",
    "import itertools\n",
    "import mix3r_v2\n",
    "\n",
    "from numba import cuda\n",
    "from numba.cuda.random import create_xoroshiro128p_states, xoroshiro128p_uniform_float32"
   ]
  },
  {
   "cell_type": "code",
   "execution_count": 2,
   "id": "91e6e566",
   "metadata": {},
   "outputs": [
    {
     "name": "stdout",
     "output_type": "stream",
     "text": [
      "64\n"
     ]
    }
   ],
   "source": [
    "# PRIVATE CONSTANT PARAMETERS\n",
    "NBIN_R2_HET_HIST = mix3r_v2.NBIN_R2_HET_HIST\n",
    "print(NBIN_R2_HET_HIST)"
   ]
  },
  {
   "cell_type": "code",
   "execution_count": 6,
   "id": "a40ce096",
   "metadata": {},
   "outputs": [
    {
     "name": "stdout",
     "output_type": "stream",
     "text": [
      "Reading template SNPs for 2 chromosomes from /cluster/projects/p33/users/alexeas/x3mix/data/template/ukb\n",
      "    455685 SNPs\n",
      "Loading sumstats from /cluster/projects/p33/users/alexeas/x3mix/data/sumstats/PGC_SCZ_2014.sumstats.gz\n",
      "    9394032 SNPs\n",
      "Loading sumstats from /cluster/projects/p33/users/alexeas/x3mix/data/sumstats/UKB_LONELY_2018_MTAG.sumstats.gz\n",
      "    7680423 SNPs\n",
      "Loading sumstats from /cluster/projects/p33/users/alexeas/x3mix/data/sumstats/GIANT_BMI_2018_UKB_v2.sumstats.gz\n",
      "    2332775 SNPs\n",
      "62511 common SNPs\n",
      "62511 SNPs with matched alleles\n",
      "62511 SNPs with Z < 32\n",
      "55645 SNPs with INFO > 0.9\n",
      "50521 SNPs with MAF > 0.05\n",
      "    0 SNPs excluded from 6:25000000-33000000\n",
      "    0 SNPs excluded from 8:7200000-12500000\n",
      "    0 SNPs excluded from 17:40000000-47000000\n",
      "    22362 SNPs excluded from 19:42000000-47000000\n",
      "48602 SNPs after all filters\n"
     ]
    }
   ],
   "source": [
    "config_fname = \"/cluster/p/p33/cluster/users/alexeas/x3mix/src/config/test_config.json\"\n",
    "args = mix3r_v2.parse_args(f\"--config {config_fname}\".split())\n",
    "config =  mix3r_v2.load_config(args)\n",
    "\n",
    "snps_df = mix3r_v2.load_snps(config[\"template_dir\"], config[\"sumstats\"],\n",
    "        chromosomes=config[\"snp_filters\"][\"chromosomes\"],\n",
    "        z_thresh=config[\"snp_filters\"][\"z_thresh\"],\n",
    "        info_thresh=config[\"snp_filters\"][\"info_thresh\"],\n",
    "        maf_thresh=config[\"snp_filters\"][\"maf_thresh\"],\n",
    "        exclude_regions=config[\"snp_filters\"][\"exclude_regions\"])"
   ]
  },
  {
   "cell_type": "code",
   "execution_count": 7,
   "id": "90563672",
   "metadata": {},
   "outputs": [
    {
     "name": "stdout",
     "output_type": "stream",
     "text": [
      "Loading LD data\n",
      "Processing chr 19\n",
      "    3103 SNPs survive pruning\n",
      "    833.06 mean size of LD block of pruned SNPs\n",
      "Processing chr 22\n",
      "    2824 SNPs survive pruning\n",
      "    703.05 mean size of LD block of pruned SNPs\n",
      "5927 SNPs loaded\n",
      "771.12 mean size of LD block of loaded SNPs\n"
     ]
    }
   ],
   "source": [
    "r2_het_hist, z_n_dict =  mix3r_v2.load_opt_data(config[\"template_dir\"], snps_df,\n",
    "        r2_prune_thresh=config[\"pruning\"][\"r2_prune_thresh\"],\n",
    "        rand_prune_seed=config[\"pruning\"][\"rand_prune_seed\"])"
   ]
  },
  {
   "cell_type": "code",
   "execution_count": 4,
   "id": "dab481a0",
   "metadata": {},
   "outputs": [],
   "source": [
    "# Functions for r2_het_hist\n",
    "\n",
    "CHAR_FUNC_MIN = 1E-8   # Stop integration when char_func < CHAR_FUNC_MIN\n",
    "\n",
    "@nb.njit\n",
    "def pdf_1d_hist(z0, p, sb2, s02, n, r2_het_hist, nodes, weights):\n",
    "    # Select integration segments = int_seg_lims = [bound0, bound1, bound2, ...],\n",
    "    # the first integration segment = [bound0, bound1], the second = [bound1, bound2] etc.\n",
    "    max_step = 1 if z0==0 else 0.5*np.pi/abs(z0) # 0.5*np.pi/abs(z0) == quarter period of cos(z0*x)\n",
    "    step = 1E-2 # initial integration step size\n",
    "    int_seg_lims = []\n",
    "    x = 0\n",
    "    reached_char_func_tol = False\n",
    "    while True:\n",
    "        fx = ch_func_1d_hist(x, p, sb2, s02, n, r2_het_hist)\n",
    "        if fx > CHAR_FUNC_MIN:\n",
    "            int_seg_lims.append(x)\n",
    "            step = min(2*step, max_step)\n",
    "            x += step\n",
    "            if reached_char_func_tol:\n",
    "                break\n",
    "        else:\n",
    "            step *= 0.5\n",
    "            x -= step\n",
    "            reached_char_func_tol = True\n",
    "    int_seg_lims.append(x)\n",
    "    # Integrate over each segment in int_seg_lims\n",
    "    integral = 0\n",
    "    for i in range(len(int_seg_lims)-1):\n",
    "        # integrate within one segment\n",
    "        a, b = int_seg_lims[i], int_seg_lims[i+1]\n",
    "        integral_seg = 0\n",
    "        for i in range(len(nodes)):\n",
    "            x = 0.5*((b - a)*nodes[i] + a + b) # [-1, 1] -> [a, b]\n",
    "            fx = np.cos(x*z0)*ch_func_1d_hist(x, p, sb2, s02, n, r2_het_hist)\n",
    "            integral_seg += weights[i]*fx\n",
    "        integral_seg *= 0.5*(b - a)\n",
    "        integral += integral_seg\n",
    "    return integral/np.pi\n",
    "\n",
    "\n",
    "@nb.njit\n",
    "def ch_func_1d_hist(x, p, sb2, s02, n, r2_het_hist):\n",
    "    fx = np.exp(-0.5*x*x*s02)\n",
    "    for i in range(NBIN_R2_HET_HIST):\n",
    "        n_in_bin = r2_het_hist[i]\n",
    "        if n_in_bin != 0:\n",
    "            rh = (0.5*i + 0.25)/NBIN_R2_HET_HIST # middle of the i-th hist bin with NBIN_R2_HET_HIST bins of [0, 0.5]\n",
    "            se2 = n*sb2*rh\n",
    "            fx *= (1 - p + p*np.exp(-0.5*x*x*se2))**n_in_bin\n",
    "    return fx\n",
    "\n",
    "\n",
    "@nb.njit\n",
    "def cost1x_int(p, sb2, s02, n, z, r2_het_hist, nodes, weights):\n",
    "    cost = 0\n",
    "    for i in range(len(z)):\n",
    "        pdf = pdf_1d_hist(z[i], p, sb2, s02, n[i],\n",
    "                          r2_het_hist[i*NBIN_R2_HET_HIST:(i+1)*NBIN_R2_HET_HIST],\n",
    "                          nodes, weights)\n",
    "        if pdf > 0:\n",
    "            cost += -np.log(pdf)\n",
    "        else:\n",
    "            cost += 32\n",
    "            print(pdf)\n",
    "    return cost/len(z)\n",
    "\n",
    "\n",
    "\n",
    "def test_pdf_1d_hist():\n",
    "    z0_arr = [-32, -16, -8, -4, -1, -1E-2, 0, 1E-2, 1, 4, 8, 16, 32]\n",
    "    p_arr = [1E-6, 1E-5, 1E-4, 1E-3, 1E-2]\n",
    "    sb2_arr = [1E-6, 1E-5, 1E-4, 1E-3, 1E-2]\n",
    "    s02_arr = [0.8, 1.3, 2.4]\n",
    "    n_arr = [1000, 10000, 100000, 1000000]\n",
    "    \n",
    "    nodes, weights = roots_legendre(7)\n",
    "    np.random.seed(1234)\n",
    "    r2_het = 0.5*np.random.rand(1000)\n",
    "    r2_het_hist = get_r2_het_hist(np.array([1]), r2_het, np.array([len(r2_het)]))\n",
    "    \n",
    "    rel_err = []\n",
    "    abs_err = []\n",
    "    true_my_val = []\n",
    "    pars = []\n",
    "    for z0, p, sb2, s02, n in itertools.product(z0_arr, p_arr, sb2_arr, s02_arr, n_arr):\n",
    "        args = (z0, p, sb2, s02, n, r2_het)\n",
    "        true_val = quad(pdf_1d_integral_func, -np.inf, np.inf, args=args)[0]/(2*np.pi)\n",
    "        my_val = pdf_1d_hist(z0, p, sb2, s02, n, r2_het_hist, nodes, weights)\n",
    "        rel_err.append(abs(true_val-my_val)/max(abs(true_val), abs(my_val)))\n",
    "        abs_err.append(abs(true_val-my_val))\n",
    "        pars.append([z0, p, sb2, s02, n])\n",
    "        true_my_val.append([true_val,my_val])\n",
    "    ii = np.argsort(rel_err)\n",
    "    for i in ii[::-1]:\n",
    "        if rel_err[i] > 1E-2 and abs_err[i] > 1E-5:\n",
    "            print(rel_err[i], abs_err[i], true_my_val[i], pars[i])"
   ]
  },
  {
   "cell_type": "code",
   "execution_count": null,
   "id": "0df3d926",
   "metadata": {},
   "outputs": [],
   "source": [
    "test_pdf_1d_hist()"
   ]
  },
  {
   "cell_type": "code",
   "execution_count": 5,
   "id": "0291d43f",
   "metadata": {},
   "outputs": [
    {
     "ename": "NameError",
     "evalue": "name 'z_n_dict' is not defined",
     "output_type": "error",
     "traceback": [
      "\u001b[0;31m---------------------------------------------------------------------------\u001b[0m",
      "\u001b[0;31mNameError\u001b[0m                                 Traceback (most recent call last)",
      "Input \u001b[0;32mIn [5]\u001b[0m, in \u001b[0;36m<cell line: 3>\u001b[0;34m()\u001b[0m\n\u001b[1;32m      1\u001b[0m nodes, weights \u001b[38;5;241m=\u001b[39m roots_legendre(\u001b[38;5;241m5\u001b[39m)\n\u001b[1;32m      2\u001b[0m p, sb2, s02 \u001b[38;5;241m=\u001b[39m \u001b[38;5;241m0.003\u001b[39m, \u001b[38;5;241m5E-5\u001b[39m, \u001b[38;5;241m1.4\u001b[39m\n\u001b[0;32m----> 3\u001b[0m \u001b[38;5;28mprint\u001b[39m(cost1x_int(p, sb2, s02, \u001b[43mz_n_dict\u001b[49m[\u001b[38;5;124m\"\u001b[39m\u001b[38;5;124mN_0\u001b[39m\u001b[38;5;124m\"\u001b[39m], z_n_dict[\u001b[38;5;124m\"\u001b[39m\u001b[38;5;124mZ_0\u001b[39m\u001b[38;5;124m\"\u001b[39m], r2_het_hist, nodes, weights))\n\u001b[1;32m      4\u001b[0m get_ipython()\u001b[38;5;241m.\u001b[39mrun_line_magic(\u001b[38;5;124m'\u001b[39m\u001b[38;5;124mtimeit\u001b[39m\u001b[38;5;124m'\u001b[39m, \u001b[38;5;124m'\u001b[39m\u001b[38;5;124mcost1x_int(p, sb2, s02, z_n_dict[\u001b[39m\u001b[38;5;124m\"\u001b[39m\u001b[38;5;124mN_0\u001b[39m\u001b[38;5;124m\"\u001b[39m\u001b[38;5;124m], z_n_dict[\u001b[39m\u001b[38;5;124m\"\u001b[39m\u001b[38;5;124mZ_0\u001b[39m\u001b[38;5;124m\"\u001b[39m\u001b[38;5;124m], r2_het_hist, nodes, weights)\u001b[39m\u001b[38;5;124m'\u001b[39m)\n",
      "\u001b[0;31mNameError\u001b[0m: name 'z_n_dict' is not defined"
     ]
    }
   ],
   "source": [
    "nodes, weights = roots_legendre(5)\n",
    "p, sb2, s02 = 0.003, 5E-5, 1.4\n",
    "print(cost1x_int(p, sb2, s02, z_n_dict[\"N_0\"], z_n_dict[\"Z_0\"], r2_het_hist, nodes, weights))\n",
    "%timeit cost1x_int(p, sb2, s02, z_n_dict[\"N_0\"], z_n_dict[\"Z_0\"], r2_het_hist, nodes, weights)"
   ]
  },
  {
   "cell_type": "code",
   "execution_count": 3,
   "id": "857647cc",
   "metadata": {},
   "outputs": [
    {
     "ename": "NameError",
     "evalue": "name 'config' is not defined",
     "output_type": "error",
     "traceback": [
      "\u001b[0;31m---------------------------------------------------------------------------\u001b[0m",
      "\u001b[0;31mNameError\u001b[0m                                 Traceback (most recent call last)",
      "Input \u001b[0;32mIn [3]\u001b[0m, in \u001b[0;36m<cell line: 2>\u001b[0;34m()\u001b[0m\n\u001b[1;32m      1\u001b[0m gpu_rng_seed \u001b[38;5;241m=\u001b[39m \u001b[38;5;241m673254\u001b[39m\n\u001b[0;32m----> 2\u001b[0m n_samples_grid \u001b[38;5;241m=\u001b[39m \u001b[43mconfig\u001b[49m[\u001b[38;5;124m'\u001b[39m\u001b[38;5;124moptimization\u001b[39m\u001b[38;5;124m'\u001b[39m][\u001b[38;5;124m'\u001b[39m\u001b[38;5;124mn_samples_grid_1x\u001b[39m\u001b[38;5;124m'\u001b[39m]\n\u001b[1;32m      3\u001b[0m r2_het_hist_gpu \u001b[38;5;241m=\u001b[39m cuda\u001b[38;5;241m.\u001b[39mto_device(r2_het_hist)\n\u001b[1;32m      4\u001b[0m n_gpu \u001b[38;5;241m=\u001b[39m cuda\u001b[38;5;241m.\u001b[39mto_device(z_n_dict[\u001b[38;5;124m\"\u001b[39m\u001b[38;5;124mN_0\u001b[39m\u001b[38;5;124m\"\u001b[39m])\n",
      "\u001b[0;31mNameError\u001b[0m: name 'config' is not defined"
     ]
    }
   ],
   "source": [
    "gpu_rng_seed = 673254\n",
    "n_samples_grid = config['optimization']['n_samples_grid_1x']\n",
    "r2_het_hist_gpu = cuda.to_device(r2_het_hist)\n",
    "n_gpu = cuda.to_device(z_n_dict[\"N_0\"])\n",
    "z_gpu = cuda.to_device(z_n_dict[\"Z_0\"])\n",
    "res_gpu = cuda.device_array(len(z_n_dict[\"Z_0\"]), dtype='f8')\n",
    "rng_states = create_xoroshiro128p_states(len(z_n_dict[\"Z_0\"])*mix3r_v2.THREADS_PER_BLOCK, seed=gpu_rng_seed)\n",
    "\n",
    "samples_per_thread = int(n_samples_grid/mix3r_v2.THREADS_PER_BLOCK)\n",
    "print(mix3r_v2.cost1x(p, sb2, s02, n_gpu, z_gpu, r2_het_hist_gpu, res_gpu, rng_states, samples_per_thread))\n",
    "%timeit mix3r_v2.cost1x(p, sb2, s02, n_gpu, z_gpu, r2_het_hist_gpu, res_gpu, rng_states, samples_per_thread)"
   ]
  },
  {
   "cell_type": "code",
   "execution_count": null,
   "id": "c81e68ff",
   "metadata": {},
   "outputs": [],
   "source": [
    "@nb.njit\n",
    "def ch_func_2d_hist(x, y, p_1, p_2, sb2_1, sb2_2, s02_1, s02_2, pp, rho, rho0, n_1, n_2, r2_het_hist):\n",
    "    # 2D characteristic function with binned r2*het values.\n",
    "    # min(r2*het) = 0, max(r2*het) = 0.5\n",
    "    val = np.exp(-0.5*(s02_1*x*x + 2*rho0*np.sqrt(s02_1*s02_2)*x*y + s02_2*y*y))\n",
    "    for i in range(NBIN_R2_HET_HIST):\n",
    "        n_in_bin = r2_het_hist[i]\n",
    "        if n_in_bin != 0:\n",
    "            rh = (0.5*i + 0.25)/NBIN_R2_HET_HIST # middle of the i-th hist bin with NBIN_R2_HET_HIST bins of [0, 0.5]\n",
    "            se2_1 = n_1*sb2_1*rh\n",
    "            se2_2 = n_2*sb2_2*rh\n",
    "            val *= ( 1 - (p_1+p_2-pp) +\n",
    "                     (p_1-pp)*np.exp(-0.5*x*x*se2_1) + \n",
    "                     (p_2-pp)*np.exp(-0.5*y*y*se2_2) +\n",
    "                     pp*np.exp(-0.5*(se2_1*x*x + 2*rho*np.sqrt(se2_1*se2_2)*x*y + se2_2*y*y)) )**n_in_bin\n",
    "    return val\n",
    "\n",
    "@nb.njit\n",
    "def ch_func_2d(x, y, p_1, p_2, sb2_1, sb2_2, s02_1, s02_2, pp, rho, rho0, n_1, n_2, r2_het):\n",
    "    # 2D characteristic function\n",
    "    val = np.exp(-0.5*(s02_1*x*x + 2*rho0*np.sqrt(s02_1*s02_2)*x*y + s02_2*y*y))\n",
    "    for rh in r2_het:\n",
    "        se2_1 = n_1*sb2_1*rh\n",
    "        se2_2 = n_2*sb2_2*rh\n",
    "        val *= ( 1 - (p_1+p_2-pp) + (p_1-pp)*np.exp(-0.5*x*x*se2_1) + (p_2-pp)*np.exp(-0.5*y*y*se2_2) + \n",
    "                 pp*np.exp(-0.5*(se2_1*x*x + 2*rho*np.sqrt(se2_1*se2_2)*x*y + se2_2*y*y)) )\n",
    "    return val\n",
    "\n",
    "\n",
    "@nb.njit\n",
    "def integrate_ab(func, a, b, nodes, weights, args):\n",
    "    # integrate in [a, b] segment function: func(x, *args)\n",
    "    integral = 0\n",
    "    for i in range(len(nodes)):\n",
    "        x = 0.5*((b - a)*nodes[i] + a + b) # [-1, 1] -> [a, b]\n",
    "        integral += weights[i]*func(x, *args)\n",
    "    integral *= 0.5*(b - a)\n",
    "    return integral\n",
    "\n",
    "@nb.njit\n",
    "def pdf_1d(z0, p, sb2, s02, n, r2_het, nodes, weights):\n",
    "    # pfd_1d(z0) = integral{-inf;inf}[cos(z0*x)*char_func(x)]dx / np.pi\n",
    "    # Note: integral{-inf;inf}[cos(z0*x)*char_func(x)]dx = 2*integral{0;inf}[cos(z0*x)*char_func(x)]dx\n",
    "    # TODO: inline integrate_ab function (similar to pdf_2d)\n",
    "    # TODO: special case when z0 == 0.\n",
    "    half_period = np.pi/abs(z0)\n",
    "    n_integration_intervals = 8 # max(int(8//half_period), 1) # heuristic\n",
    "    args = (z0, p, sb2, s02, n, r2_het)\n",
    "    a, b = 0, 0.5*half_period\n",
    "    integral = integrate_ab(pdf_1d_integral_func, a, b, nodes, weights, args)\n",
    "    for i in range(n_integration_intervals):\n",
    "        a, b = (0.5+i)*half_period, (1.5+i)*half_period\n",
    "        integral += integrate_ab(pdf_1d_integral_func, a, b, nodes, weights, args)\n",
    "    return integral/np.pi\n",
    "\n",
    "@nb.njit\n",
    "def pdf_1d_adapt(z0, p, sb2, s02, n, r2_het, nodes, weights):\n",
    "    unit_int = 0.5*np.pi/abs(z0) if z0!=0 else 8 # 0.5*np.pi/abs(z0) == quarter period of cos(z0*x)\n",
    "    min_thresh = 1E-8\n",
    "    int_lims = []\n",
    "    x = 0\n",
    "    step_back = False\n",
    "    while True:\n",
    "        fx = ch_func_1d(x, p, sb2, s02, n, r2_het)\n",
    "        if fx > min_thresh:\n",
    "            int_lims.append(x)\n",
    "            x += unit_int\n",
    "            if step_back:\n",
    "                break\n",
    "        else:\n",
    "            unit_int *= 0.5\n",
    "            x -= unit_int\n",
    "            step_back = True\n",
    "    int_lims.append(x)\n",
    "    integral = 0\n",
    "    args = (z0, p, sb2, s02, n, r2_het)\n",
    "    for i in range(len(int_lims)-1):\n",
    "        a,b = int_lims[i], int_lims[i+1]\n",
    "        integral += integrate_ab(pdf_1d_integral_func, a, b, nodes, weights, args)\n",
    "    return integral/np.pi\n",
    "        \n",
    "@nb.njit\n",
    "def pdf_1d_integral_func(x, z0, p, sb2, s02, n, r2_het):\n",
    "    # cos(z0*x)*char_func(x)\n",
    "    return np.cos(x*z0)*ch_func_1d(x, p, sb2, s02, n, r2_het)\n",
    "\n",
    "@nb.njit\n",
    "def ch_func_1d(x, p, sb2, s02, n, r2_het):\n",
    "    fx = np.exp(-0.5*x*x*s02)\n",
    "    for rh in r2_het:\n",
    "        se2 = n*sb2*rh\n",
    "        fx *= (1 - p + p*np.exp(-0.5*x*x*se2))\n",
    "    return fx\n",
    "\n",
    "\n",
    "@nb.njit\n",
    "def pdf_1d_hist(z0, p, sb2, s02, n, r2_het_hist, nodes, weights):\n",
    "    # pfd_1d(z0) = integral{-inf;inf}[cos(z0*x)*char_func(x)]dx / np.pi\n",
    "    # Note: integral{-inf;inf}[cos(z0*x)*char_func(x)]dx = 2*integral{0;inf}[cos(z0*x)*char_func(x)]dx\n",
    "    # TODO: inline integrate_ab function (similar to pdf_2d)\n",
    "    # TODO: special case when z0 == 0. For example, just set a = 0, b = 10 and intergate over this one interval.\n",
    "    half_period = np.pi/abs(z0)\n",
    "    n_integration_intervals = max(int(8//half_period), 1) # heuristic\n",
    "    args = (z0, p, sb2, s02, n, r2_het_hist)\n",
    "    a, b = 0, 0.5*half_period\n",
    "    integral = integrate_ab(pdf_1d_integral_func_hist, a, b, nodes, weights, args)\n",
    "    for i in range(n_integration_intervals):\n",
    "        a, b = (0.5+i)*half_period, (1.5+i)*half_period\n",
    "        integral += integrate_ab(pdf_1d_integral_func_hist, a, b, nodes, weights, args)\n",
    "    return integral/np.pi\n",
    "    \n",
    "@nb.njit\n",
    "def pdf_1d_integral_func_hist(x, z0, p, sb2, s02, n, r2_het_hist):\n",
    "    # cos(z0*x)*char_func(x)\n",
    "    val = np.cos(x*z0)*np.exp(-0.5*x*x*s02)\n",
    "    for i in range(NBIN_R2_HET_HIST):\n",
    "        n_in_bin = r2_het_hist[i]\n",
    "        if n_in_bin != 0:\n",
    "            rh = (0.5*i + 0.25)/NBIN_R2_HET_HIST # middle of the i-th hist bin with NBIN_R2_HET_HIST bins of [0, 0.5]\n",
    "            se2 = n*sb2*rh\n",
    "            val *= (1 - p + p*np.exp(-0.5*x*x*se2))**n_in_bin\n",
    "    return val\n",
    "\n",
    "@nb.njit\n",
    "def pdf_2d(z0_1, z0_2, p_1, p_2, sb2_1, sb2_2, s02_1, s02_2, pp, rho, rho0, n_1, n_2, r2_het, nodes, weights):\n",
    "    # integrate f(x,y) = cos(z0_1*x + z0_2*y)*cf(x, y) = cos(z0_1*x)*cos(z0_2*y)*cf(x, y) - sin(z0_1*x)sin(z0_2*y)*cf(x, y)\n",
    "    # Note cf(x, y) = cf(-x, -y)\n",
    "    quarter_period_1 = 0.5*np.pi/abs(z0_1) # here we integrate by quarters to process cos and sin simultaneously (without shift)\n",
    "    quarter_period_2 = 0.5*np.pi/abs(z0_2)\n",
    "    n_integration_intervals_1 = max(int(4//quarter_period_1), 1)\n",
    "    n_integration_intervals_2 = max(int(4//quarter_period_2), 1)\n",
    "    # Take cos*cos*f and sin*sin*f integrals in [0, inf] x [0, inf] and in [0, inf] x [-inf, 0] quadrants simultaneously.\n",
    "    # Integrals in [0, inf] x [0, inf] quadrant, are also equal to [-inf 0] x [-inf 0] quadrant.\n",
    "    # Integrals in [0, inf] x [-inf, 0] quadrant, are also equal to [-inf 0] x [0 inf] quadrant.\n",
    "    integral_xy = 0\n",
    "    for ii_1 in range(n_integration_intervals_1):\n",
    "        a_1, b_1 = ii_1*quarter_period_1, (ii_1+1)*quarter_period_1\n",
    "        integral_x = 0\n",
    "        for i in range(len(nodes)):\n",
    "            x = 0.5*((b_1 - a_1)*nodes[i] + a_1 + b_1) # [-1, 1] -> [a, b]\n",
    "            for ii_2 in range(n_integration_intervals_2):\n",
    "                a_2, b_2 = ii_2*quarter_period_2, (ii_2+1)*quarter_period_2\n",
    "                integral_y = 0\n",
    "                for j in range(len(nodes)):\n",
    "                    y = 0.5*((b_2 - a_2)*nodes[j] + a_2 + b_2)\n",
    "                    cf_pos = ch_func_2d(x, y, p_1, p_2, sb2_1, sb2_2, s02_1, s02_2, pp, rho, rho0, n_1, n_2, r2_het)\n",
    "                    cf_neg = ch_func_2d(x, -y, p_1, p_2, sb2_1, sb2_2, s02_1, s02_2, pp, rho, rho0, n_1, n_2, r2_het)\n",
    "                    integral_y += np.cos(z0_1*x + z0_2*y)*cf_pos*weights[i]*weights[j]\n",
    "                    integral_y += np.cos(z0_1*x - z0_2*y)*cf_neg*weights[i]*weights[j]\n",
    "                integral_x += 0.5*(b_2 - a_2)*integral_y\n",
    "        integral_xy += 0.5*(b_1 - a_1)*integral_x\n",
    "    return 2*integral_xy/(2*np.pi)**2\n",
    "\n",
    "@nb.njit\n",
    "def pdf_2d_hist(z0_1, z0_2, p_1, p_2, sb2_1, sb2_2, s02_1, s02_2, pp, rho, rho0, n_1, n_2, r2_het, nodes, weights):\n",
    "    # integrate f(x,y) = cos(z0_1*x + z0_2*y)*cf(x, y) = cos(z0_1*x)*cos(z0_2*y)*cf(x, y) - sin(z0_1*x)sin(z0_2*y)*cf(x, y)\n",
    "    # Note cf(x, y) = cf(-x, -y)\n",
    "    quarter_period_1 = 0.5*np.pi/abs(z0_1) # here we integrate by quarters to process cos and sin simultaneously (without shift)\n",
    "    quarter_period_2 = 0.5*np.pi/abs(z0_2)\n",
    "    n_integration_intervals_1 = max(int(4//quarter_period_1), 1)\n",
    "    n_integration_intervals_2 = max(int(4//quarter_period_2), 1)\n",
    "    # Take cos*cos*f and sin*sin*f integrals in [0, inf] x [0, inf] and in [0, inf] x [-inf, 0] quadrants simultaneously.\n",
    "    # Integrals in [0, inf] x [0, inf] quadrant, are also equal to [-inf 0] x [-inf 0] quadrant.\n",
    "    # Integrals in [0, inf] x [-inf, 0] quadrant, are also equal to [-inf 0] x [0 inf] quadrant.\n",
    "    integral_xy = 0\n",
    "    for ii_1 in range(n_integration_intervals_1):\n",
    "        a_1, b_1 = ii_1*quarter_period_1, (ii_1+1)*quarter_period_1\n",
    "        integral_x = 0\n",
    "        for i in range(len(nodes)):\n",
    "            x = 0.5*((b_1 - a_1)*nodes[i] + a_1 + b_1) # [-1, 1] -> [a, b]\n",
    "            for ii_2 in range(n_integration_intervals_2):\n",
    "                a_2, b_2 = ii_2*quarter_period_2, (ii_2+1)*quarter_period_2\n",
    "                integral_y = 0\n",
    "                for j in range(len(nodes)):\n",
    "                    y = 0.5*((b_2 - a_2)*nodes[j] + a_2 + b_2)\n",
    "                    cf_pos = ch_func_2d_hist(x, y, p_1, p_2, sb2_1, sb2_2, s02_1, s02_2, pp, rho, rho0, n_1, n_2, r2_het)\n",
    "                    cf_neg = ch_func_2d_hist(x, -y, p_1, p_2, sb2_1, sb2_2, s02_1, s02_2, pp, rho, rho0, n_1, n_2, r2_het)\n",
    "                    integral_y += np.cos(z0_1*x + z0_2*y)*cf_pos*weights[i]*weights[j]\n",
    "                    integral_y += np.cos(z0_1*x - z0_2*y)*cf_neg*weights[i]*weights[j]\n",
    "                integral_x += 0.5*(b_2 - a_2)*integral_y\n",
    "        integral_xy += 0.5*(b_1 - a_1)*integral_x\n",
    "    return 2*integral_xy/(2*np.pi)**2\n",
    "        \n",
    "        \n",
    "@nb.njit\n",
    "def pdf_2d_integral_func(y, x, z0_1, z0_2, p_1, p_2, sb2_1, sb2_2, s02_1, s02_2, pp, rho, rho0, n_1, n_2, r2_het):\n",
    "    val = np.cos(z0_1*x + z0_2*y)*ch_func_2d(x, y, p_1, p_2, sb2_1, sb2_2, s02_1, s02_2, pp, rho, rho0, n_1, n_2, r2_het)/(2*np.pi)**2\n",
    "    return val\n"
   ]
  },
  {
   "cell_type": "code",
   "execution_count": null,
   "id": "bb211d8c",
   "metadata": {},
   "outputs": [],
   "source": [
    "r2_het = 0.5*np.random.rand(1000)\n",
    "z0_1, z0_2 = 1, -1.9\n",
    "p_1, p_2 = 0.003, 0.001\n",
    "sb2_1, sb2_2 = 7E-5, 3E-5\n",
    "s02_1, s02_2 = 0.8, 1.1\n",
    "pp = 0.0005\n",
    "rho = 0.4\n",
    "rho0 = 0.1\n",
    "n_1, n_2 = 100000,  200000\n",
    "x_1, x_2 = -0.4, -0.3"
   ]
  },
  {
   "cell_type": "code",
   "execution_count": null,
   "id": "09530eda",
   "metadata": {},
   "outputs": [],
   "source": [
    "nodes, weights = roots_legendre(7) # separate nodes and weights for x and y depending on z0_1 and z0_2, the larger z, the less number of nodes\n",
    "my_val = pdf_2d(z0_1, z0_2, p_1, p_2, sb2_1, sb2_2, s02_1, s02_2, pp, rho, rho0, n_1, n_2, r2_het, nodes, weights)\n",
    "\n",
    "args = (z0_1, z0_2, p_1, p_2, sb2_1, sb2_2, s02_1, s02_2, pp, rho, rho0, n_1, n_2, r2_het)\n",
    "true_val, true_se = dblquad(pdf_2d_integral_func, -np.inf, np.inf, -np.inf, np.inf, args=args)\n",
    "\n",
    "print(f\"my_val   = {my_val}\")\n",
    "print(f\"true_val = {true_val} ({true_se})\")\n",
    "print(f\"|my_val - true_val|   = {abs(my_val - true_val)}\")"
   ]
  },
  {
   "cell_type": "code",
   "execution_count": null,
   "id": "af4066bf",
   "metadata": {},
   "outputs": [],
   "source": [
    "%timeit pdf_2d(z0_1, z0_2, p_1, p_2, sb2_1, sb2_2, s02_1, s02_2, pp, rho, rho0, n_1, n_2, r2_het, nodes, weights)"
   ]
  },
  {
   "cell_type": "code",
   "execution_count": null,
   "id": "c465b6a8",
   "metadata": {},
   "outputs": [],
   "source": [
    "args = (z0_1, z0_2, p_1, p_2, sb2_1, sb2_2, s02_1, s02_2, pp, rho, rho0, n_1, n_2, r2_het)\n",
    "%timeit dblquad(pdf_2d_integral_func, -np.inf, np.inf, -np.inf, np.inf, args=args)"
   ]
  },
  {
   "cell_type": "code",
   "execution_count": null,
   "id": "ceb74ca8",
   "metadata": {},
   "outputs": [],
   "source": [
    "config_fname = \"/cluster/p/p33/cluster/users/alexeas/x3mix/src/config/test_config.json\"\n",
    "config = load_config(config_fname)\n",
    "\n",
    "snps_df = load_snps(config[\"template_dir\"], config[\"sumstats\"],\n",
    "        chromosomes=config[\"snp_filters\"][\"chromosomes\"],\n",
    "        z_thresh=config[\"snp_filters\"][\"z_thresh\"],\n",
    "        info_thresh=config[\"snp_filters\"][\"info_thresh\"],\n",
    "        maf_thresh=config[\"snp_filters\"][\"maf_thresh\"],\n",
    "        exclude_regions=config[\"snp_filters\"][\"exclude_regions\"])"
   ]
  },
  {
   "cell_type": "code",
   "execution_count": null,
   "id": "deb6d1e1",
   "metadata": {},
   "outputs": [],
   "source": [
    "r2_het_hist, z_n_dict = load_opt_data(config[\"template_dir\"], snps_df,\n",
    "        r2_prune_thresh=config[\"pruning\"][\"r2_prune_thresh\"],\n",
    "        rand_prune_seed=config[\"pruning\"][\"rand_prune_seed\"])"
   ]
  },
  {
   "cell_type": "code",
   "execution_count": null,
   "id": "1514e34f",
   "metadata": {},
   "outputs": [],
   "source": [
    "r2_het_hist.shape[0]/NBIN_R2_HET_HIST"
   ]
  },
  {
   "cell_type": "code",
   "execution_count": null,
   "id": "927e747c",
   "metadata": {},
   "outputs": [],
   "source": [
    "r2_het_hist_test = get_r2_het_hist(np.array([1]), r2_het, np.array([len(r2_het)]))"
   ]
  },
  {
   "cell_type": "code",
   "execution_count": null,
   "id": "7e663396",
   "metadata": {},
   "outputs": [],
   "source": [
    "r2_het_hist_test.shape"
   ]
  },
  {
   "cell_type": "code",
   "execution_count": null,
   "id": "83191c8c",
   "metadata": {},
   "outputs": [],
   "source": [
    "nodes, weights = roots_legendre(7) # separate nodes and weights for x and y depending on z0_1 and z0_2, the larger z, the less number of nodes\n",
    "my_val = pdf_2d(z0_1, z0_2, p_1, p_2, sb2_1, sb2_2, s02_1, s02_2, pp, rho, rho0, n_1, n_2, r2_het, nodes, weights)\n",
    "\n",
    "my_val_hist = pdf_2d_hist(z0_1, z0_2, p_1, p_2, sb2_1, sb2_2, s02_1, s02_2, pp, rho, rho0, n_1, n_2, r2_het_hist_test, nodes, weights)\n",
    "\n",
    "args = (z0_1, z0_2, p_1, p_2, sb2_1, sb2_2, s02_1, s02_2, pp, rho, rho0, n_1, n_2, r2_het)\n",
    "true_val, true_se = dblquad(pdf_2d_integral_func, -np.inf, np.inf, -np.inf, np.inf, args=args)\n",
    "\n",
    "print(f\"my_val   = {my_val}\")\n",
    "print(f\"my_val_hist   = {my_val_hist}\")\n",
    "print(f\"true_val = {true_val} ({true_se})\")\n",
    "print(f\"|my_val - true_val|   = {abs(my_val - true_val)}\")\n",
    "print(f\"|my_val_hist - true_val|   = {abs(my_val_hist - true_val)}\")"
   ]
  },
  {
   "cell_type": "code",
   "execution_count": null,
   "id": "445766fd",
   "metadata": {},
   "outputs": [],
   "source": [
    "%timeit pdf_2d(z0_1, z0_2, p_1, p_2, sb2_1, sb2_2, s02_1, s02_2, pp, rho, rho0, n_1, n_2, r2_het, nodes, weights)"
   ]
  },
  {
   "cell_type": "code",
   "execution_count": null,
   "id": "d5bedd29",
   "metadata": {},
   "outputs": [],
   "source": [
    "%timeit pdf_2d_hist(z0_1, z0_2, p_1, p_2, sb2_1, sb2_2, s02_1, s02_2, pp, rho, rho0, n_1, n_2, r2_het_hist_test, nodes, weights)"
   ]
  },
  {
   "cell_type": "code",
   "execution_count": null,
   "id": "0c42e387",
   "metadata": {},
   "outputs": [],
   "source": [
    "pdf_1d_hist(z0_1, p_1, sb2_1, s02_1, n_1, r2_het_hist_test, nodes, weights)"
   ]
  },
  {
   "cell_type": "code",
   "execution_count": null,
   "id": "e60a6126",
   "metadata": {},
   "outputs": [],
   "source": [
    "pdf_1d(z0_1, p_1, sb2_1, s02_1, n_1, r2_het, nodes, weights)"
   ]
  },
  {
   "cell_type": "code",
   "execution_count": null,
   "id": "f4a45be4",
   "metadata": {},
   "outputs": [],
   "source": [
    "args = (z0_1, p_1, sb2_1, s02_1, n_1, r2_het)\n",
    "quad(pdf_1d_integral_func, -np.inf, np.inf, args=args)[0]/np.pi"
   ]
  },
  {
   "cell_type": "code",
   "execution_count": null,
   "id": "d3004b8e",
   "metadata": {},
   "outputs": [],
   "source": [
    "%timeit pdf_1d_hist(z0_1, p_1, sb2_1, s02_1, n_1, r2_het_hist_test, nodes, weights)\n",
    "%timeit pdf_1d(z0_1, p_1, sb2_1, s02_1, n_1, r2_het, nodes, weights)\n",
    "%timeit quad(pdf_1d_integral_func, -np.inf, np.inf, args=args)"
   ]
  },
  {
   "cell_type": "code",
   "execution_count": 6,
   "id": "bedcab86",
   "metadata": {},
   "outputs": [],
   "source": [
    "@nb.njit\n",
    "def cost1x_int(p, sb2, s02, n, z, r2_het_hist, nodes, weights):\n",
    "    cost = 0\n",
    "    for i in range(len(z)):\n",
    "        pdf = pdf_1d_hist(z[i], p, sb2, s02, n[i],\n",
    "                          r2_het_hist[i*NBIN_R2_HET_HIST:(i+1)*NBIN_R2_HET_HIST],\n",
    "                          nodes, weights)\n",
    "        print(pdf)\n",
    "        if pdf > 0:\n",
    "            print(\"+++\")\n",
    "            cost += -np.log(pdf)\n",
    "        else:\n",
    "            cost += 32\n",
    "    return cost/len(z)"
   ]
  },
  {
   "cell_type": "code",
   "execution_count": 7,
   "id": "da08ee69",
   "metadata": {},
   "outputs": [
    {
     "ename": "NameError",
     "evalue": "name 'p_1' is not defined",
     "output_type": "error",
     "traceback": [
      "\u001b[0;31m---------------------------------------------------------------------------\u001b[0m",
      "\u001b[0;31mNameError\u001b[0m                                 Traceback (most recent call last)",
      "Input \u001b[0;32mIn [7]\u001b[0m, in \u001b[0;36m<cell line: 1>\u001b[0;34m()\u001b[0m\n\u001b[0;32m----> 1\u001b[0m cost1x_int(\u001b[43mp_1\u001b[49m, sb2_1, s02_1, z_n_dict[\u001b[38;5;124m\"\u001b[39m\u001b[38;5;124mN_0\u001b[39m\u001b[38;5;124m\"\u001b[39m], z_n_dict[\u001b[38;5;124m\"\u001b[39m\u001b[38;5;124mZ_0\u001b[39m\u001b[38;5;124m\"\u001b[39m], r2_het_hist, nodes, weights)\n",
      "\u001b[0;31mNameError\u001b[0m: name 'p_1' is not defined"
     ]
    }
   ],
   "source": [
    "cost1x_int(p_1, sb2_1, s02_1, z_n_dict[\"N_0\"], z_n_dict[\"Z_0\"], r2_het_hist, nodes, weights)"
   ]
  },
  {
   "cell_type": "code",
   "execution_count": null,
   "id": "18b8a0eb",
   "metadata": {},
   "outputs": [],
   "source": [
    "%timeit cost1x_int(p_1, sb2_1, s02_1, z_n_dict[\"N_0\"], z_n_dict[\"Z_0\"], r2_het_hist, nodes, weights)"
   ]
  },
  {
   "cell_type": "code",
   "execution_count": null,
   "id": "d5ffd3e4",
   "metadata": {},
   "outputs": [],
   "source": [
    "gpu_rng_seed = 673254\n",
    "n_samples_grid = config['optimization']['n_samples_grid_1x']\n",
    "r2_het_hist_gpu = cuda.to_device(r2_het_hist)\n",
    "n_gpu = cuda.to_device(z_n_dict[\"N_0\"])\n",
    "z_gpu = cuda.to_device(z_n_dict[\"Z_0\"])\n",
    "res_gpu = cuda.device_array(len(z_n_dict[\"Z_0\"]), dtype='f8')\n",
    "rng_states = create_xoroshiro128p_states(len(z_n_dict[\"Z_0\"])*THREADS_PER_BLOCK, seed=gpu_rng_seed)\n",
    "\n",
    "samples_per_thread = int(n_samples_grid/THREADS_PER_BLOCK)\n",
    "cost1x(p_1, sb2_1, s02_1, n_gpu, z_gpu, r2_het_hist_gpu, res_gpu, rng_states, samples_per_thread)"
   ]
  },
  {
   "cell_type": "code",
   "execution_count": null,
   "id": "171ca2b1",
   "metadata": {},
   "outputs": [],
   "source": [
    "%timeit cost1x(p_1, sb2_1, s02_1, n_gpu, z_gpu, r2_het_hist_gpu, res_gpu, rng_states, samples_per_thread)"
   ]
  },
  {
   "cell_type": "code",
   "execution_count": null,
   "id": "be21a938",
   "metadata": {},
   "outputs": [],
   "source": [
    "p_1"
   ]
  },
  {
   "cell_type": "code",
   "execution_count": null,
   "id": "ed813975",
   "metadata": {},
   "outputs": [],
   "source": [
    "def pdf_infinitesimal(sb2, s02, n, z, r2_het_hist):\n",
    "    cost = 0\n",
    "    for i in range(len(z)):\n",
    "        sum_s2 = s02\n",
    "        for n_in_bin in r2_het_hist[i*NBIN_R2_HET_HIST:(i+1)*NBIN_R2_HET_HIST]:\n",
    "            rh = (0.5*i + 0.25)/NBIN_R2_HET_HIST\n",
    "            sum_s2 += n[i]*sb2*rh*n_in_bin\n",
    "        cost += -np.log(norm.pdf(z[i], 0, np.sqrt(sum_s2)))\n",
    "    return cost/len(z)"
   ]
  },
  {
   "cell_type": "code",
   "execution_count": null,
   "id": "0c233775",
   "metadata": {},
   "outputs": [],
   "source": [
    "pdf_infinitesimal(sb2_1, s02_1, z_n_dict[\"N_0\"], z_n_dict[\"Z_0\"][:1], r2_het_hist)"
   ]
  },
  {
   "cell_type": "code",
   "execution_count": null,
   "id": "e0f4456b",
   "metadata": {},
   "outputs": [],
   "source": [
    "cost1x_int(1, sb2_1, s02_1, z_n_dict[\"N_0\"], z_n_dict[\"Z_0\"][:1], r2_het_hist, nodes, weights)"
   ]
  },
  {
   "cell_type": "code",
   "execution_count": null,
   "id": "7fdecbab",
   "metadata": {},
   "outputs": [],
   "source": [
    "cost1x(1, sb2_1, s02_1, n_gpu, z_gpu, r2_het_hist_gpu, res_gpu, rng_states, samples_per_thread)"
   ]
  },
  {
   "cell_type": "code",
   "execution_count": null,
   "id": "0bf1c0fa",
   "metadata": {},
   "outputs": [],
   "source": [
    "-np.log(0.009511757002773577)"
   ]
  },
  {
   "cell_type": "code",
   "execution_count": null,
   "id": "bf1a7583",
   "metadata": {},
   "outputs": [],
   "source": [
    "r2_het_hist_test"
   ]
  },
  {
   "cell_type": "code",
   "execution_count": null,
   "id": "b4cd5ee2",
   "metadata": {},
   "outputs": [],
   "source": [
    "nodes, weights = roots_legendre(7)\n",
    "pdf_1d(21, 1, 1, 0, 1, r2_het, nodes, weights)"
   ]
  },
  {
   "cell_type": "code",
   "execution_count": null,
   "id": "ea6f6541",
   "metadata": {},
   "outputs": [],
   "source": [
    "norm.pdf(0.1, 0, np.sqrt(sum(r2_het)))"
   ]
  },
  {
   "cell_type": "code",
   "execution_count": null,
   "id": "adf30ed2",
   "metadata": {},
   "outputs": [],
   "source": [
    "pdf_1d_hist(1, 1, 1, 0, 1, r2_het_hist_test, nodes, weights)"
   ]
  },
  {
   "cell_type": "code",
   "execution_count": null,
   "id": "740c8e40",
   "metadata": {},
   "outputs": [],
   "source": [
    "r2_het.shape"
   ]
  },
  {
   "cell_type": "code",
   "execution_count": null,
   "id": "fffd9b92",
   "metadata": {},
   "outputs": [],
   "source": [
    "args = (0.1, 1, 1, 0, 1, r2_het)\n",
    "quad(pdf_1d_integral_func, -np.inf, np.inf, args=args)[0]/(2*np.pi)"
   ]
  },
  {
   "cell_type": "code",
   "execution_count": null,
   "id": "8b703552",
   "metadata": {},
   "outputs": [],
   "source": [
    "nodes, weights = roots_legendre(32)\n",
    "integrate_ab(pdf_1d_integral_func, 0, 5, nodes, weights, args)/(2*np.pi)"
   ]
  },
  {
   "cell_type": "code",
   "execution_count": null,
   "id": "a17ea55a",
   "metadata": {},
   "outputs": [],
   "source": [
    "args = (0.1, 1, 1, 0, 1, r2_het)\n",
    "quad(pdf_1d_integral_func, 0, 5, args=args)[0]/(2*np.pi)"
   ]
  },
  {
   "cell_type": "code",
   "execution_count": null,
   "id": "cbdd9920",
   "metadata": {},
   "outputs": [],
   "source": [
    "pdf_1d_integral_func(31/128, 0.1, 1, 1, 0, 1, r2_het)"
   ]
  },
  {
   "cell_type": "code",
   "execution_count": null,
   "id": "f4a0141a",
   "metadata": {},
   "outputs": [],
   "source": [
    "# z0, p, sb2, s02, n, r2_het, nodes, weights\n",
    "nodes, weights = roots_legendre(7)\n",
    "pdf_1d_adapt(0, 1, 1, 0, 1, r2_het, nodes, weights)"
   ]
  },
  {
   "cell_type": "code",
   "execution_count": null,
   "id": "f68db75c",
   "metadata": {},
   "outputs": [],
   "source": [
    "norm.pdf(0, 0, np.sqrt(sum(r2_het)))"
   ]
  },
  {
   "cell_type": "code",
   "execution_count": null,
   "id": "7235e9f4",
   "metadata": {},
   "outputs": [],
   "source": [
    "args = (0.00, 1, 1, 0, 1, r2_het)\n",
    "quad(pdf_1d_integral_func, -np.inf, np.inf, args=args)[0]/(2*np.pi)"
   ]
  },
  {
   "cell_type": "code",
   "execution_count": null,
   "id": "151c8451",
   "metadata": {},
   "outputs": [],
   "source": [
    "nodes, weights = roots_legendre(256)\n",
    "integrate_ab(pdf_1d_integral_func, -5, 5, nodes, weights, args)/(2*np.pi)"
   ]
  },
  {
   "cell_type": "code",
   "execution_count": null,
   "id": "f5df7644",
   "metadata": {},
   "outputs": [],
   "source": [
    "quad(pdf_1d_integral_func, -5, 5, args=args)[0]/(2*np.pi)"
   ]
  },
  {
   "cell_type": "code",
   "execution_count": null,
   "id": "569c4c99",
   "metadata": {},
   "outputs": [],
   "source": [
    "pdf_1d_integral_func(1.7*0.037399912542735635,*args)"
   ]
  },
  {
   "cell_type": "code",
   "execution_count": null,
   "id": "8ff9c1c0",
   "metadata": {},
   "outputs": [],
   "source": [
    "pdf_1d_hist(0, 1, 1, 0, 1, r2_het_hist_test, nodes, weights)"
   ]
  },
  {
   "cell_type": "code",
   "execution_count": null,
   "id": "567b2d38",
   "metadata": {},
   "outputs": [],
   "source": [
    "ch_func_1d(0.2, 1, 1, 0, 1, r2_het)"
   ]
  },
  {
   "cell_type": "code",
   "execution_count": null,
   "id": "908e4792",
   "metadata": {},
   "outputs": [],
   "source": [
    "ch_func_1d_hist(0.2, 1, 1, 0, 1, r2_het_hist_test)"
   ]
  },
  {
   "cell_type": "code",
   "execution_count": null,
   "id": "3ab6678e",
   "metadata": {},
   "outputs": [],
   "source": [
    "args"
   ]
  },
  {
   "cell_type": "code",
   "execution_count": 122,
   "id": "984e4756",
   "metadata": {},
   "outputs": [
    {
     "data": {
      "text/html": [
       "<div>\n",
       "<style scoped>\n",
       "    .dataframe tbody tr th:only-of-type {\n",
       "        vertical-align: middle;\n",
       "    }\n",
       "\n",
       "    .dataframe tbody tr th {\n",
       "        vertical-align: top;\n",
       "    }\n",
       "\n",
       "    .dataframe thead th {\n",
       "        text-align: right;\n",
       "    }\n",
       "</style>\n",
       "<table border=\"1\" class=\"dataframe\">\n",
       "  <thead>\n",
       "    <tr style=\"text-align: right;\">\n",
       "      <th></th>\n",
       "      <th>nnid</th>\n",
       "      <th>Subj_ID</th>\n",
       "      <th>Diag_category</th>\n",
       "      <th>Educatation</th>\n",
       "      <th>HC_SZ_BP</th>\n",
       "      <th>Pasient_Kontroll</th>\n",
       "      <th>Ethnicity</th>\n",
       "      <th>Age</th>\n",
       "      <th>Gender</th>\n",
       "      <th>Trial1</th>\n",
       "      <th>...</th>\n",
       "      <th>Litium</th>\n",
       "      <th>Total_medication</th>\n",
       "      <th>diagnosis</th>\n",
       "      <th>subdiagnosis</th>\n",
       "      <th>sex</th>\n",
       "      <th>yearofbirth</th>\n",
       "      <th>ageatinc</th>\n",
       "      <th>ethnicity</th>\n",
       "      <th>genetics_uid</th>\n",
       "      <th>genetics_snpsex</th>\n",
       "    </tr>\n",
       "  </thead>\n",
       "  <tbody>\n",
       "    <tr>\n",
       "      <th>0</th>\n",
       "      <td>2621</td>\n",
       "      <td>U2621</td>\n",
       "      <td>other psychosis</td>\n",
       "      <td>10</td>\n",
       "      <td>SZ</td>\n",
       "      <td>pasient</td>\n",
       "      <td>1</td>\n",
       "      <td>24</td>\n",
       "      <td>1</td>\n",
       "      <td>377,5</td>\n",
       "      <td>...</td>\n",
       "      <td>0</td>\n",
       "      <td>,67</td>\n",
       "      <td>PSY</td>\n",
       "      <td>other psychosis</td>\n",
       "      <td>male</td>\n",
       "      <td>1994.0</td>\n",
       "      <td>24.0</td>\n",
       "      <td>European (caucasian)</td>\n",
       "      <td>FAM001_U2621</td>\n",
       "      <td>1.0</td>\n",
       "    </tr>\n",
       "    <tr>\n",
       "      <th>1</th>\n",
       "      <td>677</td>\n",
       "      <td>U677</td>\n",
       "      <td>other psychosis</td>\n",
       "      <td>12</td>\n",
       "      <td>SZ</td>\n",
       "      <td>pasient</td>\n",
       "      <td>6</td>\n",
       "      <td>25</td>\n",
       "      <td>1</td>\n",
       "      <td>450,7241</td>\n",
       "      <td>...</td>\n",
       "      <td>0</td>\n",
       "      <td>1</td>\n",
       "      <td>PSY</td>\n",
       "      <td>other psychosis</td>\n",
       "      <td>male</td>\n",
       "      <td>1990.0</td>\n",
       "      <td>25.0</td>\n",
       "      <td>Arabic</td>\n",
       "      <td>PACIQKH_U677</td>\n",
       "      <td>1.0</td>\n",
       "    </tr>\n",
       "    <tr>\n",
       "      <th>2</th>\n",
       "      <td>1785</td>\n",
       "      <td>U1785</td>\n",
       "      <td>other psychosis</td>\n",
       "      <td>9</td>\n",
       "      <td>SZ</td>\n",
       "      <td>pasient</td>\n",
       "      <td>1</td>\n",
       "      <td>24</td>\n",
       "      <td>2</td>\n",
       "      <td>454,6071</td>\n",
       "      <td>...</td>\n",
       "      <td>0</td>\n",
       "      <td>0</td>\n",
       "      <td>PSY</td>\n",
       "      <td>other psychosis</td>\n",
       "      <td>female</td>\n",
       "      <td>1993.0</td>\n",
       "      <td>24.0</td>\n",
       "      <td>European (caucasian)</td>\n",
       "      <td>FAM001_U1785</td>\n",
       "      <td>2.0</td>\n",
       "    </tr>\n",
       "    <tr>\n",
       "      <th>3</th>\n",
       "      <td>1952</td>\n",
       "      <td>U1952</td>\n",
       "      <td>other psychosis</td>\n",
       "      <td>12</td>\n",
       "      <td>SZ</td>\n",
       "      <td>pasient</td>\n",
       "      <td>1</td>\n",
       "      <td>52</td>\n",
       "      <td>1</td>\n",
       "      <td>466</td>\n",
       "      <td>...</td>\n",
       "      <td>0</td>\n",
       "      <td>0</td>\n",
       "      <td>PSY</td>\n",
       "      <td>other psychosis</td>\n",
       "      <td>male</td>\n",
       "      <td>1965.0</td>\n",
       "      <td>52.0</td>\n",
       "      <td>European (caucasian)</td>\n",
       "      <td>FAM001_U1952</td>\n",
       "      <td>1.0</td>\n",
       "    </tr>\n",
       "    <tr>\n",
       "      <th>4</th>\n",
       "      <td>240</td>\n",
       "      <td>U240</td>\n",
       "      <td>other psychosis</td>\n",
       "      <td>12</td>\n",
       "      <td>SZ</td>\n",
       "      <td>pasient</td>\n",
       "      <td>1</td>\n",
       "      <td>21</td>\n",
       "      <td>2</td>\n",
       "      <td>468,4828</td>\n",
       "      <td>...</td>\n",
       "      <td>0</td>\n",
       "      <td>0</td>\n",
       "      <td>PSY</td>\n",
       "      <td>other psychosis</td>\n",
       "      <td>female</td>\n",
       "      <td>1995.0</td>\n",
       "      <td>21.0</td>\n",
       "      <td>European (caucasian)</td>\n",
       "      <td>FAM001_U240</td>\n",
       "      <td>2.0</td>\n",
       "    </tr>\n",
       "  </tbody>\n",
       "</table>\n",
       "<p>5 rows × 129 columns</p>\n",
       "</div>"
      ],
      "text/plain": [
       "   nnid Subj_ID    Diag_category Educatation HC_SZ_BP Pasient_Kontroll  \\\n",
       "0  2621   U2621  other psychosis          10       SZ          pasient   \n",
       "1   677    U677  other psychosis          12       SZ          pasient   \n",
       "2  1785   U1785  other psychosis           9       SZ          pasient   \n",
       "3  1952   U1952  other psychosis          12       SZ          pasient   \n",
       "4   240    U240  other psychosis          12       SZ          pasient   \n",
       "\n",
       "  Ethnicity Age Gender    Trial1  ... Litium Total_medication diagnosis  \\\n",
       "0         1  24      1     377,5  ...      0              ,67       PSY   \n",
       "1         6  25      1  450,7241  ...      0                1       PSY   \n",
       "2         1  24      2  454,6071  ...      0                0       PSY   \n",
       "3         1  52      1       466  ...      0                0       PSY   \n",
       "4         1  21      2  468,4828  ...      0                0       PSY   \n",
       "\n",
       "      subdiagnosis     sex yearofbirth ageatinc             ethnicity  \\\n",
       "0  other psychosis    male      1994.0     24.0  European (caucasian)   \n",
       "1  other psychosis    male      1990.0     25.0                Arabic   \n",
       "2  other psychosis  female      1993.0     24.0  European (caucasian)   \n",
       "3  other psychosis    male      1965.0     52.0  European (caucasian)   \n",
       "4  other psychosis  female      1995.0     21.0  European (caucasian)   \n",
       "\n",
       "   genetics_uid genetics_snpsex  \n",
       "0  FAM001_U2621             1.0  \n",
       "1  PACIQKH_U677             1.0  \n",
       "2  FAM001_U1785             2.0  \n",
       "3  FAM001_U1952             1.0  \n",
       "4   FAM001_U240             2.0  \n",
       "\n",
       "[5 rows x 129 columns]"
      ]
     },
     "execution_count": 122,
     "metadata": {},
     "output_type": "execute_result"
    }
   ],
   "source": [
    "df = pd.read_table(\"/cluster/projects/p33/users/oliviaw/RTV/prs/pheno/RTV_TOP_pheno_noblanks\")\n",
    "fname = \"/cluster/projects/p33/users/alexeas/olivia/top_reaction_time/ReactionTimes_CPT_Alexey_Beathe_value_labels_merged_with_noda.csv\"\n",
    "bdf = pd.read_table(fname)\n",
    "bdf.head()"
   ]
  },
  {
   "cell_type": "code",
   "execution_count": 123,
   "id": "b6885ee1",
   "metadata": {},
   "outputs": [
    {
     "name": "stdout",
     "output_type": "stream",
     "text": [
      "209\n",
      "(184, 4)\n"
     ]
    }
   ],
   "source": [
    "ii = (bdf.HC_SZ_BP == \"HC\") & (bdf.Ethnicity == \"1\")\n",
    "print(ii.sum())\n",
    "df_controls = df.loc[df.IID.isin(bdf.genetics_uid[ii]),:]\n",
    "print(df_controls.shape)"
   ]
  },
  {
   "cell_type": "code",
   "execution_count": 124,
   "id": "5bbe3795",
   "metadata": {},
   "outputs": [],
   "source": [
    "import matplotlib.pyplot as plt\n",
    "import scipy.stats as ss"
   ]
  },
  {
   "cell_type": "code",
   "execution_count": 125,
   "id": "5674b77a",
   "metadata": {},
   "outputs": [
    {
     "data": {
      "text/plain": [
       "(0.7646626791234856, 2.7987239943074117e-57)"
      ]
     },
     "execution_count": 125,
     "metadata": {},
     "output_type": "execute_result"
    },
    {
     "data": {
      "image/png": "[encoded data removed]",
      "text/plain": [
       "<Figure size 432x288 with 1 Axes>"
      ]
     },
     "metadata": {
      "needs_background": "light"
     },
     "output_type": "display_data"
    }
   ],
   "source": [
    "plt.scatter(df.RTV_4dig, df.RTV_tot)\n",
    "ss.pearsonr(df.RTV_4dig, df.RTV_tot)"
   ]
  },
  {
   "cell_type": "code",
   "execution_count": 126,
   "id": "cda32980",
   "metadata": {},
   "outputs": [
    {
     "data": {
      "text/plain": [
       "(0.8134659903335941, 1.0546470213993068e-44)"
      ]
     },
     "execution_count": 126,
     "metadata": {},
     "output_type": "execute_result"
    },
    {
     "data": {
      "image/png": "[encoded data removed]",
      "text/plain": [
       "<Figure size 432x288 with 1 Axes>"
      ]
     },
     "metadata": {
      "needs_background": "light"
     },
     "output_type": "display_data"
    }
   ],
   "source": [
    "plt.scatter(df_controls.RTV_4dig, df_controls.RTV_tot)\n",
    "ss.pearsonr(df_controls.RTV_4dig, df_controls.RTV_tot)"
   ]
  },
  {
   "cell_type": "code",
   "execution_count": 115,
   "id": "d4e394a6",
   "metadata": {},
   "outputs": [],
   "source": [
    "prs4 = pd.read_table(\"/cluster/projects/p33/users/oliviaw/RTV/prs/PRSice_out/RTV_TOP_calcov.best\",sep=' ')\n",
    "prstot = pd.read_table(\"/cluster/projects/p33/users/oliviaw/RTV/prs/PRSice_out/RTVtot_TOP_calcov.best\",sep=' ')"
   ]
  },
  {
   "cell_type": "code",
   "execution_count": 116,
   "id": "9b43eddd",
   "metadata": {},
   "outputs": [
    {
     "data": {
      "text/plain": [
       "<matplotlib.collections.PathCollection at 0x7f22806f99d0>"
      ]
     },
     "execution_count": 116,
     "metadata": {},
     "output_type": "execute_result"
    },
    {
     "data": {
      "image/png": "[encoded data removed]",
      "text/plain": [
       "<Figure size 432x288 with 1 Axes>"
      ]
     },
     "metadata": {
      "needs_background": "light"
     },
     "output_type": "display_data"
    }
   ],
   "source": [
    "plt.scatter(prs4.PRS, prstot.PRS)"
   ]
  },
  {
   "cell_type": "code",
   "execution_count": 117,
   "id": "a523607e",
   "metadata": {},
   "outputs": [],
   "source": [
    "prs4 = prs4.merge(df, on=\"IID\", how=\"inner\")"
   ]
  },
  {
   "cell_type": "code",
   "execution_count": 118,
   "id": "4083c778",
   "metadata": {},
   "outputs": [
    {
     "data": {
      "text/plain": [
       "(0.05848518058999931, 0.32094633788856136)"
      ]
     },
     "execution_count": 118,
     "metadata": {},
     "output_type": "execute_result"
    }
   ],
   "source": [
    "ss.pearsonr(prs4.PRS, prs4.RTV_4dig)"
   ]
  },
  {
   "cell_type": "code",
   "execution_count": 119,
   "id": "37e3cad8",
   "metadata": {},
   "outputs": [
    {
     "data": {
      "text/plain": [
       "SpearmanrResult(correlation=0.08093589205825155, pvalue=0.16925799104787104)"
      ]
     },
     "execution_count": 119,
     "metadata": {},
     "output_type": "execute_result"
    }
   ],
   "source": [
    "ss.spearmanr(prs4.PRS, prs4.RTV_4dig)"
   ]
  },
  {
   "cell_type": "code",
   "execution_count": 120,
   "id": "66a6d464",
   "metadata": {},
   "outputs": [
    {
     "name": "stdout",
     "output_type": "stream",
     "text": [
      "(0.05848518058999931, 0.32094633788856136)\n",
      "(0.14065436132052228, 0.016537157373549796)\n",
      "SpearmanrResult(correlation=0.08093589205825155, pvalue=0.16925799104787104)\n",
      "SpearmanrResult(correlation=0.1526179121404945, pvalue=0.009240363709710007)\n",
      "(0.1084106743072949, 0.0721480632077936)\n",
      "(0.19746785784541648, 0.0009729657857542113)\n",
      "SpearmanrResult(correlation=0.115274040039383, pvalue=0.05577805430542995)\n",
      "SpearmanrResult(correlation=0.1958904695994635, pvalue=0.001070321812118378)\n"
     ]
    }
   ],
   "source": [
    "print(ss.pearsonr(prs4.PRS, prs4.RTV_4dig))\n",
    "print(ss.pearsonr(prs4.PRS, prs4.RTV_tot))\n",
    "print(ss.spearmanr(prs4.PRS, prs4.RTV_4dig))\n",
    "print(ss.spearmanr(prs4.PRS, prs4.RTV_tot))\n",
    "ii = (prs4.PRS < 0.0001) & (prs4.PRS > -0.00025) \n",
    "print(ss.pearsonr(prs4.PRS[ii], prs4.RTV_4dig[ii]))\n",
    "print(ss.pearsonr(prs4.PRS[ii], prs4.RTV_tot[ii]))\n",
    "print(ss.spearmanr(prs4.PRS[ii], prs4.RTV_4dig[ii]))\n",
    "print(ss.spearmanr(prs4.PRS[ii], prs4.RTV_tot[ii]))"
   ]
  },
  {
   "cell_type": "code",
   "execution_count": 121,
   "id": "0ea2acb1",
   "metadata": {},
   "outputs": [
    {
     "name": "stdout",
     "output_type": "stream",
     "text": [
      "(0.06868967485221683, 0.35551683078392704)\n",
      "(0.0893711129320215, 0.22893186262729442)\n",
      "SpearmanrResult(correlation=0.1146953545385477, pvalue=0.12209371970054957)\n",
      "SpearmanrResult(correlation=0.11401980058430523, pvalue=0.12432301920537445)\n",
      "(0.18242796498512273, 0.01598321233681736)\n",
      "(0.18133439590921321, 0.016638005832893883)\n",
      "SpearmanrResult(correlation=0.19276289188188728, pvalue=0.010823826678289671)\n",
      "SpearmanrResult(correlation=0.1751336883168655, pvalue=0.02080997143718107)\n",
      "9\n"
     ]
    }
   ],
   "source": [
    "prs4 = pd.read_table(\"/cluster/projects/p33/users/oliviaw/RTV/prs/PRSice_out/RTV_TOP_calcov.best\",sep=' ')\n",
    "prs4_controls = prs4.merge(df_controls, on=\"IID\", how=\"inner\")\n",
    "print(ss.pearsonr(prs4_controls.PRS, prs4_controls.RTV_4dig))\n",
    "print(ss.pearsonr(prs4_controls.PRS, prs4_controls.RTV_tot))\n",
    "print(ss.spearmanr(prs4_controls.PRS, prs4_controls.RTV_4dig))\n",
    "print(ss.spearmanr(prs4_controls.PRS, prs4_controls.RTV_tot))\n",
    "ii = (prs4_controls.PRS < 0.0001) & (prs4_controls.PRS > -0.00025) \n",
    "print(ss.pearsonr(prs4_controls.PRS[ii], prs4_controls.RTV_4dig[ii]))\n",
    "print(ss.pearsonr(prs4_controls.PRS[ii], prs4_controls.RTV_tot[ii]))\n",
    "print(ss.spearmanr(prs4_controls.PRS[ii], prs4_controls.RTV_4dig[ii]))\n",
    "print(ss.spearmanr(prs4_controls.PRS[ii], prs4_controls.RTV_tot[ii]))\n",
    "print((~ii).sum())"
   ]
  },
  {
   "cell_type": "code",
   "execution_count": 105,
   "id": "6b078bf1",
   "metadata": {},
   "outputs": [
    {
     "data": {
      "text/html": [
       "<div>\n",
       "<style scoped>\n",
       "    .dataframe tbody tr th:only-of-type {\n",
       "        vertical-align: middle;\n",
       "    }\n",
       "\n",
       "    .dataframe tbody tr th {\n",
       "        vertical-align: top;\n",
       "    }\n",
       "\n",
       "    .dataframe thead th {\n",
       "        text-align: right;\n",
       "    }\n",
       "</style>\n",
       "<table border=\"1\" class=\"dataframe\">\n",
       "  <thead>\n",
       "    <tr style=\"text-align: right;\">\n",
       "      <th></th>\n",
       "      <th>FID_x</th>\n",
       "      <th>IID</th>\n",
       "      <th>In_Regression</th>\n",
       "      <th>PRS</th>\n",
       "      <th>FID_y</th>\n",
       "      <th>RTV_4dig_x</th>\n",
       "      <th>RTV_tot_x</th>\n",
       "      <th>FID</th>\n",
       "      <th>RTV_4dig_y</th>\n",
       "      <th>RTV_tot_y</th>\n",
       "    </tr>\n",
       "  </thead>\n",
       "  <tbody>\n",
       "    <tr>\n",
       "      <th>0</th>\n",
       "      <td>FAM001_K50679</td>\n",
       "      <td>FAM001_K50679</td>\n",
       "      <td>Yes</td>\n",
       "      <td>-0.000045</td>\n",
       "      <td>FAM001_K50679</td>\n",
       "      <td>101.788746</td>\n",
       "      <td>103.463473</td>\n",
       "      <td>FAM001_K50679</td>\n",
       "      <td>101.788746</td>\n",
       "      <td>103.463473</td>\n",
       "    </tr>\n",
       "    <tr>\n",
       "      <th>1</th>\n",
       "      <td>FAM001_K50703</td>\n",
       "      <td>FAM001_K50703</td>\n",
       "      <td>Yes</td>\n",
       "      <td>-0.000111</td>\n",
       "      <td>FAM001_K50703</td>\n",
       "      <td>152.801858</td>\n",
       "      <td>126.799162</td>\n",
       "      <td>FAM001_K50703</td>\n",
       "      <td>152.801858</td>\n",
       "      <td>126.799162</td>\n",
       "    </tr>\n",
       "    <tr>\n",
       "      <th>2</th>\n",
       "      <td>FAM001_K50704</td>\n",
       "      <td>FAM001_K50704</td>\n",
       "      <td>Yes</td>\n",
       "      <td>-0.000120</td>\n",
       "      <td>FAM001_K50704</td>\n",
       "      <td>101.438683</td>\n",
       "      <td>100.225657</td>\n",
       "      <td>FAM001_K50704</td>\n",
       "      <td>101.438683</td>\n",
       "      <td>100.225657</td>\n",
       "    </tr>\n",
       "    <tr>\n",
       "      <th>3</th>\n",
       "      <td>FAM001_K50705</td>\n",
       "      <td>FAM001_K50705</td>\n",
       "      <td>Yes</td>\n",
       "      <td>-0.000122</td>\n",
       "      <td>FAM001_K50705</td>\n",
       "      <td>187.001356</td>\n",
       "      <td>133.869787</td>\n",
       "      <td>FAM001_K50705</td>\n",
       "      <td>187.001356</td>\n",
       "      <td>133.869787</td>\n",
       "    </tr>\n",
       "    <tr>\n",
       "      <th>4</th>\n",
       "      <td>FAM001_K50706</td>\n",
       "      <td>FAM001_K50706</td>\n",
       "      <td>Yes</td>\n",
       "      <td>-0.000184</td>\n",
       "      <td>FAM001_K50706</td>\n",
       "      <td>156.443600</td>\n",
       "      <td>121.326162</td>\n",
       "      <td>FAM001_K50706</td>\n",
       "      <td>156.443600</td>\n",
       "      <td>121.326162</td>\n",
       "    </tr>\n",
       "    <tr>\n",
       "      <th>...</th>\n",
       "      <td>...</td>\n",
       "      <td>...</td>\n",
       "      <td>...</td>\n",
       "      <td>...</td>\n",
       "      <td>...</td>\n",
       "      <td>...</td>\n",
       "      <td>...</td>\n",
       "      <td>...</td>\n",
       "      <td>...</td>\n",
       "      <td>...</td>\n",
       "    </tr>\n",
       "    <tr>\n",
       "      <th>182</th>\n",
       "      <td>PACIRHV_K50655</td>\n",
       "      <td>PACIRHV_K50655</td>\n",
       "      <td>Yes</td>\n",
       "      <td>-0.000171</td>\n",
       "      <td>PACIRHV_K50655</td>\n",
       "      <td>107.962337</td>\n",
       "      <td>116.441140</td>\n",
       "      <td>PACIRHV_K50655</td>\n",
       "      <td>107.962337</td>\n",
       "      <td>116.441140</td>\n",
       "    </tr>\n",
       "    <tr>\n",
       "      <th>183</th>\n",
       "      <td>PACIRHX_K50647</td>\n",
       "      <td>PACIRHX_K50647</td>\n",
       "      <td>Yes</td>\n",
       "      <td>-0.000052</td>\n",
       "      <td>PACIRHX_K50647</td>\n",
       "      <td>99.831298</td>\n",
       "      <td>109.809021</td>\n",
       "      <td>PACIRHX_K50647</td>\n",
       "      <td>99.831298</td>\n",
       "      <td>109.809021</td>\n",
       "    </tr>\n",
       "    <tr>\n",
       "      <th>184</th>\n",
       "      <td>PACIRJN_K50625</td>\n",
       "      <td>PACIRJN_K50625</td>\n",
       "      <td>Yes</td>\n",
       "      <td>-0.000054</td>\n",
       "      <td>PACIRJN_K50625</td>\n",
       "      <td>93.996773</td>\n",
       "      <td>78.474341</td>\n",
       "      <td>PACIRJN_K50625</td>\n",
       "      <td>93.996773</td>\n",
       "      <td>78.474341</td>\n",
       "    </tr>\n",
       "    <tr>\n",
       "      <th>185</th>\n",
       "      <td>PACIRLF_K50632</td>\n",
       "      <td>PACIRLF_K50632</td>\n",
       "      <td>Yes</td>\n",
       "      <td>0.000036</td>\n",
       "      <td>PACIRLF_K50632</td>\n",
       "      <td>125.791229</td>\n",
       "      <td>144.123256</td>\n",
       "      <td>PACIRLF_K50632</td>\n",
       "      <td>125.791229</td>\n",
       "      <td>144.123256</td>\n",
       "    </tr>\n",
       "    <tr>\n",
       "      <th>186</th>\n",
       "      <td>PACIRLX_K50554</td>\n",
       "      <td>PACIRLX_K50554</td>\n",
       "      <td>Yes</td>\n",
       "      <td>0.000146</td>\n",
       "      <td>PACIRLX_K50554</td>\n",
       "      <td>141.918899</td>\n",
       "      <td>108.851385</td>\n",
       "      <td>PACIRLX_K50554</td>\n",
       "      <td>141.918899</td>\n",
       "      <td>108.851385</td>\n",
       "    </tr>\n",
       "  </tbody>\n",
       "</table>\n",
       "<p>187 rows × 10 columns</p>\n",
       "</div>"
      ],
      "text/plain": [
       "              FID_x             IID In_Regression       PRS           FID_y  \\\n",
       "0     FAM001_K50679   FAM001_K50679           Yes -0.000045   FAM001_K50679   \n",
       "1     FAM001_K50703   FAM001_K50703           Yes -0.000111   FAM001_K50703   \n",
       "2     FAM001_K50704   FAM001_K50704           Yes -0.000120   FAM001_K50704   \n",
       "3     FAM001_K50705   FAM001_K50705           Yes -0.000122   FAM001_K50705   \n",
       "4     FAM001_K50706   FAM001_K50706           Yes -0.000184   FAM001_K50706   \n",
       "..              ...             ...           ...       ...             ...   \n",
       "182  PACIRHV_K50655  PACIRHV_K50655           Yes -0.000171  PACIRHV_K50655   \n",
       "183  PACIRHX_K50647  PACIRHX_K50647           Yes -0.000052  PACIRHX_K50647   \n",
       "184  PACIRJN_K50625  PACIRJN_K50625           Yes -0.000054  PACIRJN_K50625   \n",
       "185  PACIRLF_K50632  PACIRLF_K50632           Yes  0.000036  PACIRLF_K50632   \n",
       "186  PACIRLX_K50554  PACIRLX_K50554           Yes  0.000146  PACIRLX_K50554   \n",
       "\n",
       "     RTV_4dig_x   RTV_tot_x             FID  RTV_4dig_y   RTV_tot_y  \n",
       "0    101.788746  103.463473   FAM001_K50679  101.788746  103.463473  \n",
       "1    152.801858  126.799162   FAM001_K50703  152.801858  126.799162  \n",
       "2    101.438683  100.225657   FAM001_K50704  101.438683  100.225657  \n",
       "3    187.001356  133.869787   FAM001_K50705  187.001356  133.869787  \n",
       "4    156.443600  121.326162   FAM001_K50706  156.443600  121.326162  \n",
       "..          ...         ...             ...         ...         ...  \n",
       "182  107.962337  116.441140  PACIRHV_K50655  107.962337  116.441140  \n",
       "183   99.831298  109.809021  PACIRHX_K50647   99.831298  109.809021  \n",
       "184   93.996773   78.474341  PACIRJN_K50625   93.996773   78.474341  \n",
       "185  125.791229  144.123256  PACIRLF_K50632  125.791229  144.123256  \n",
       "186  141.918899  108.851385  PACIRLX_K50554  141.918899  108.851385  \n",
       "\n",
       "[187 rows x 10 columns]"
      ]
     },
     "execution_count": 105,
     "metadata": {},
     "output_type": "execute_result"
    }
   ],
   "source": [
    "prs4_controls"
   ]
  },
  {
   "cell_type": "code",
   "execution_count": 41,
   "id": "46bdb594",
   "metadata": {},
   "outputs": [
    {
     "data": {
      "text/plain": [
       "<matplotlib.collections.PathCollection at 0x7f2289fe3550>"
      ]
     },
     "execution_count": 41,
     "metadata": {},
     "output_type": "execute_result"
    },
    {
     "data": {
      "image/png": "[encoded data removed]",
      "text/plain": [
       "<Figure size 432x288 with 1 Axes>"
      ]
     },
     "metadata": {
      "needs_background": "light"
     },
     "output_type": "display_data"
    }
   ],
   "source": [
    "plt.scatter(prs4.PRS, prs4.RTV_tot)"
   ]
  },
  {
   "cell_type": "code",
   "execution_count": 42,
   "id": "1b951f90",
   "metadata": {},
   "outputs": [
    {
     "data": {
      "text/plain": [
       "<matplotlib.collections.PathCollection at 0x7f2285d488b0>"
      ]
     },
     "execution_count": 42,
     "metadata": {},
     "output_type": "execute_result"
    },
    {
     "data": {
      "image/png": "[encoded data removed]",
      "text/plain": [
       "<Figure size 432x288 with 1 Axes>"
      ]
     },
     "metadata": {
      "needs_background": "light"
     },
     "output_type": "display_data"
    }
   ],
   "source": [
    "plt.scatter(prs4.PRS, prs4.RTV_4dig)"
   ]
  },
  {
   "cell_type": "code",
   "execution_count": 44,
   "id": "cbcc2269",
   "metadata": {},
   "outputs": [
    {
     "data": {
      "text/html": [
       "<div>\n",
       "<style scoped>\n",
       "    .dataframe tbody tr th:only-of-type {\n",
       "        vertical-align: middle;\n",
       "    }\n",
       "\n",
       "    .dataframe tbody tr th {\n",
       "        vertical-align: top;\n",
       "    }\n",
       "\n",
       "    .dataframe thead th {\n",
       "        text-align: right;\n",
       "    }\n",
       "</style>\n",
       "<table border=\"1\" class=\"dataframe\">\n",
       "  <thead>\n",
       "    <tr style=\"text-align: right;\">\n",
       "      <th></th>\n",
       "      <th>FID</th>\n",
       "      <th>IID</th>\n",
       "      <th>RTV_4dig</th>\n",
       "      <th>RTV_tot</th>\n",
       "    </tr>\n",
       "  </thead>\n",
       "  <tbody>\n",
       "    <tr>\n",
       "      <th>0</th>\n",
       "      <td>FAM001_U2621</td>\n",
       "      <td>FAM001_U2621</td>\n",
       "      <td>151.215446</td>\n",
       "      <td>164.774678</td>\n",
       "    </tr>\n",
       "    <tr>\n",
       "      <th>1</th>\n",
       "      <td>PACIQKH_U677</td>\n",
       "      <td>PACIQKH_U677</td>\n",
       "      <td>191.291037</td>\n",
       "      <td>137.700100</td>\n",
       "    </tr>\n",
       "    <tr>\n",
       "      <th>2</th>\n",
       "      <td>FAM001_U1785</td>\n",
       "      <td>FAM001_U1785</td>\n",
       "      <td>130.997226</td>\n",
       "      <td>111.379982</td>\n",
       "    </tr>\n",
       "    <tr>\n",
       "      <th>3</th>\n",
       "      <td>FAM001_U1952</td>\n",
       "      <td>FAM001_U1952</td>\n",
       "      <td>107.205072</td>\n",
       "      <td>88.266579</td>\n",
       "    </tr>\n",
       "    <tr>\n",
       "      <th>4</th>\n",
       "      <td>FAM001_U240</td>\n",
       "      <td>FAM001_U240</td>\n",
       "      <td>146.252293</td>\n",
       "      <td>120.396630</td>\n",
       "    </tr>\n",
       "    <tr>\n",
       "      <th>...</th>\n",
       "      <td>...</td>\n",
       "      <td>...</td>\n",
       "      <td>...</td>\n",
       "      <td>...</td>\n",
       "    </tr>\n",
       "    <tr>\n",
       "      <th>287</th>\n",
       "      <td>FAM001_U1674</td>\n",
       "      <td>FAM001_U1674</td>\n",
       "      <td>102.186245</td>\n",
       "      <td>120.066944</td>\n",
       "    </tr>\n",
       "    <tr>\n",
       "      <th>288</th>\n",
       "      <td>FAM001_U1933</td>\n",
       "      <td>FAM001_U1933</td>\n",
       "      <td>209.751043</td>\n",
       "      <td>130.675922</td>\n",
       "    </tr>\n",
       "    <tr>\n",
       "      <th>289</th>\n",
       "      <td>PACBVJO_BUP85702</td>\n",
       "      <td>PACBVJO_BUP85702</td>\n",
       "      <td>90.807292</td>\n",
       "      <td>101.466577</td>\n",
       "    </tr>\n",
       "    <tr>\n",
       "      <th>290</th>\n",
       "      <td>FAM001_U1842</td>\n",
       "      <td>FAM001_U1842</td>\n",
       "      <td>192.211689</td>\n",
       "      <td>194.688152</td>\n",
       "    </tr>\n",
       "    <tr>\n",
       "      <th>291</th>\n",
       "      <td>FAM001_U1848</td>\n",
       "      <td>FAM001_U1848</td>\n",
       "      <td>159.907408</td>\n",
       "      <td>119.732531</td>\n",
       "    </tr>\n",
       "  </tbody>\n",
       "</table>\n",
       "<p>292 rows × 4 columns</p>\n",
       "</div>"
      ],
      "text/plain": [
       "                  FID               IID    RTV_4dig     RTV_tot\n",
       "0        FAM001_U2621      FAM001_U2621  151.215446  164.774678\n",
       "1        PACIQKH_U677      PACIQKH_U677  191.291037  137.700100\n",
       "2        FAM001_U1785      FAM001_U1785  130.997226  111.379982\n",
       "3        FAM001_U1952      FAM001_U1952  107.205072   88.266579\n",
       "4         FAM001_U240       FAM001_U240  146.252293  120.396630\n",
       "..                ...               ...         ...         ...\n",
       "287      FAM001_U1674      FAM001_U1674  102.186245  120.066944\n",
       "288      FAM001_U1933      FAM001_U1933  209.751043  130.675922\n",
       "289  PACBVJO_BUP85702  PACBVJO_BUP85702   90.807292  101.466577\n",
       "290      FAM001_U1842      FAM001_U1842  192.211689  194.688152\n",
       "291      FAM001_U1848      FAM001_U1848  159.907408  119.732531\n",
       "\n",
       "[292 rows x 4 columns]"
      ]
     },
     "execution_count": 44,
     "metadata": {},
     "output_type": "execute_result"
    }
   ],
   "source": [
    "df"
   ]
  },
  {
   "cell_type": "code",
   "execution_count": 82,
   "id": "f11a03f4",
   "metadata": {},
   "outputs": [],
   "source": [
    "prs4_controls = prs4.merge(df_controls, on=\"IID\", how=\"inner\")"
   ]
  },
  {
   "cell_type": "code",
   "execution_count": 83,
   "id": "2954bd03",
   "metadata": {},
   "outputs": [
    {
     "name": "stdout",
     "output_type": "stream",
     "text": [
      "(0.0875995900932579, 0.2331955821862474)\n",
      "(0.0992898525285643, 0.17637288955223804)\n"
     ]
    }
   ],
   "source": [
    "print(ss.pearsonr(prs4_controls.PRS, prs4_controls.RTV_4dig))\n",
    "print(ss.pearsonr(prs4_controls.PRS, prs4_controls.RTV_tot))"
   ]
  },
  {
   "cell_type": "code",
   "execution_count": 84,
   "id": "f74d011a",
   "metadata": {},
   "outputs": [
    {
     "name": "stdout",
     "output_type": "stream",
     "text": [
      "SpearmanrResult(correlation=0.13474137393149063, pvalue=0.06597413316989485)\n",
      "SpearmanrResult(correlation=0.12916071775936933, pvalue=0.07810470744479368)\n"
     ]
    }
   ],
   "source": [
    "print(ss.spearmanr(prs4_controls.PRS, prs4_controls.RTV_4dig))\n",
    "print(ss.spearmanr(prs4_controls.PRS, prs4_controls.RTV_tot))"
   ]
  },
  {
   "cell_type": "code",
   "execution_count": 87,
   "id": "f26c5bc6",
   "metadata": {},
   "outputs": [
    {
     "data": {
      "text/plain": [
       "<matplotlib.collections.PathCollection at 0x7f2280a89700>"
      ]
     },
     "execution_count": 87,
     "metadata": {},
     "output_type": "execute_result"
    },
    {
     "data": {
      "image/png": "[encoded data removed]",
      "text/plain": [
       "<Figure size 432x288 with 1 Axes>"
      ]
     },
     "metadata": {
      "needs_background": "light"
     },
     "output_type": "display_data"
    }
   ],
   "source": [
    "plt.scatter(prs4_controls.PRS, prs4_controls.RTV_tot)"
   ]
  },
  {
   "cell_type": "code",
   "execution_count": 65,
   "id": "52ca6502",
   "metadata": {},
   "outputs": [
    {
     "data": {
      "text/html": [
       "<div>\n",
       "<style scoped>\n",
       "    .dataframe tbody tr th:only-of-type {\n",
       "        vertical-align: middle;\n",
       "    }\n",
       "\n",
       "    .dataframe tbody tr th {\n",
       "        vertical-align: top;\n",
       "    }\n",
       "\n",
       "    .dataframe thead th {\n",
       "        text-align: right;\n",
       "    }\n",
       "</style>\n",
       "<table border=\"1\" class=\"dataframe\">\n",
       "  <thead>\n",
       "    <tr style=\"text-align: right;\">\n",
       "      <th></th>\n",
       "      <th>FID</th>\n",
       "      <th>IID</th>\n",
       "      <th>ISD</th>\n",
       "    </tr>\n",
       "  </thead>\n",
       "  <tbody>\n",
       "    <tr>\n",
       "      <th>0</th>\n",
       "      <td>1000010</td>\n",
       "      <td>1000010</td>\n",
       "      <td>203.221800</td>\n",
       "    </tr>\n",
       "    <tr>\n",
       "      <th>1</th>\n",
       "      <td>1000028</td>\n",
       "      <td>1000028</td>\n",
       "      <td>147.725083</td>\n",
       "    </tr>\n",
       "    <tr>\n",
       "      <th>2</th>\n",
       "      <td>1000034</td>\n",
       "      <td>1000034</td>\n",
       "      <td>25.435539</td>\n",
       "    </tr>\n",
       "    <tr>\n",
       "      <th>3</th>\n",
       "      <td>1000045</td>\n",
       "      <td>1000045</td>\n",
       "      <td>118.370604</td>\n",
       "    </tr>\n",
       "    <tr>\n",
       "      <th>4</th>\n",
       "      <td>1000052</td>\n",
       "      <td>1000052</td>\n",
       "      <td>92.635666</td>\n",
       "    </tr>\n",
       "  </tbody>\n",
       "</table>\n",
       "</div>"
      ],
      "text/plain": [
       "       FID      IID         ISD\n",
       "0  1000010  1000010  203.221800\n",
       "1  1000028  1000028  147.725083\n",
       "2  1000034  1000034   25.435539\n",
       "3  1000045  1000045  118.370604\n",
       "4  1000052  1000052   92.635666"
      ]
     },
     "execution_count": 65,
     "metadata": {},
     "output_type": "execute_result"
    }
   ],
   "source": [
    "icd_rt = pd.read_table(\"/cluster/projects/p33/users/oliviaw/RTV/pheno/ISD_RT.txt\")\n",
    "icd_rt.head()"
   ]
  },
  {
   "cell_type": "code",
   "execution_count": 68,
   "id": "cbd19803",
   "metadata": {},
   "outputs": [
    {
     "data": {
      "image/png": "[encoded data removed]",
      "text/plain": [
       "<Figure size 432x288 with 1 Axes>"
      ]
     },
     "metadata": {
      "needs_background": "light"
     },
     "output_type": "display_data"
    }
   ],
   "source": [
    "_=plt.hist(icd_rt.ISD, 500)"
   ]
  },
  {
   "cell_type": "code",
   "execution_count": 69,
   "id": "424b6724",
   "metadata": {},
   "outputs": [
    {
     "data": {
      "text/plain": [
       "count    490461.000000\n",
       "mean        102.443730\n",
       "std          76.689773\n",
       "min           0.000000\n",
       "25%          55.262103\n",
       "50%          80.898496\n",
       "75%         122.200927\n",
       "max        1013.013327\n",
       "Name: ISD, dtype: float64"
      ]
     },
     "execution_count": 69,
     "metadata": {},
     "output_type": "execute_result"
    }
   ],
   "source": [
    "icd_rt.ISD.describe()"
   ]
  },
  {
   "cell_type": "code",
   "execution_count": 71,
   "id": "328a4538",
   "metadata": {},
   "outputs": [],
   "source": [
    "import scipy.stats as ss\n",
    "\n",
    "def rint(series, c=3.0/8):\n",
    "    # c = 3/8 is default in many software packages, it's called Blom ranked-based inverse normal transform\n",
    "    series_rint = series.copy()\n",
    "    i_notna = series.notna()\n",
    "    rank = ss.rankdata(series.loc[i_notna], method=\"average\") # average ordinal\n",
    "    n = len(rank)\n",
    "    series_rint.loc[i_notna] = ss.norm.ppf( (rank - c) / (n - 2*c + 1) )\n",
    "    return series_rint"
   ]
  },
  {
   "cell_type": "code",
   "execution_count": 80,
   "id": "b8293bca",
   "metadata": {},
   "outputs": [],
   "source": [
    "rtv_4dig = rint(df_controls.RTV_4dig)\n",
    "rtv_tot = rint(df_controls.RTV_tot)"
   ]
  },
  {
   "cell_type": "code",
   "execution_count": 81,
   "id": "f62feef4",
   "metadata": {},
   "outputs": [
    {
     "ename": "ValueError",
     "evalue": "all the input array dimensions for the concatenation axis must match exactly, but along dimension 0, the array at index 0 has size 187 and the array at index 1 has size 188",
     "output_type": "error",
     "traceback": [
      "\u001b[0;31m---------------------------------------------------------------------------\u001b[0m",
      "\u001b[0;31mValueError\u001b[0m                                Traceback (most recent call last)",
      "Input \u001b[0;32mIn [81]\u001b[0m, in \u001b[0;36m<cell line: 1>\u001b[0;34m()\u001b[0m\n\u001b[0;32m----> 1\u001b[0m \u001b[38;5;28mprint\u001b[39m(\u001b[43mss\u001b[49m\u001b[38;5;241;43m.\u001b[39;49m\u001b[43mspearmanr\u001b[49m\u001b[43m(\u001b[49m\u001b[43mprs4_controls\u001b[49m\u001b[38;5;241;43m.\u001b[39;49m\u001b[43mPRS\u001b[49m\u001b[43m,\u001b[49m\u001b[43m \u001b[49m\u001b[43mrtv_4dig\u001b[49m\u001b[43m)\u001b[49m)\n\u001b[1;32m      2\u001b[0m \u001b[38;5;28mprint\u001b[39m(ss\u001b[38;5;241m.\u001b[39mspearmanr(prs4_controls\u001b[38;5;241m.\u001b[39mPRS, rtv_tot))\n",
      "File \u001b[0;32m~/py_envs/mm/lib/python3.9/site-packages/scipy/stats/_stats_py.py:4515\u001b[0m, in \u001b[0;36mspearmanr\u001b[0;34m(a, b, axis, nan_policy, alternative)\u001b[0m\n\u001b[1;32m   4513\u001b[0m b, _ \u001b[38;5;241m=\u001b[39m _chk_asarray(b, axis)\n\u001b[1;32m   4514\u001b[0m \u001b[38;5;28;01mif\u001b[39;00m axisout \u001b[38;5;241m==\u001b[39m \u001b[38;5;241m0\u001b[39m:\n\u001b[0;32m-> 4515\u001b[0m     a \u001b[38;5;241m=\u001b[39m \u001b[43mnp\u001b[49m\u001b[38;5;241;43m.\u001b[39;49m\u001b[43mcolumn_stack\u001b[49m\u001b[43m(\u001b[49m\u001b[43m(\u001b[49m\u001b[43ma\u001b[49m\u001b[43m,\u001b[49m\u001b[43m \u001b[49m\u001b[43mb\u001b[49m\u001b[43m)\u001b[49m\u001b[43m)\u001b[49m\n\u001b[1;32m   4516\u001b[0m \u001b[38;5;28;01melse\u001b[39;00m:\n\u001b[1;32m   4517\u001b[0m     a \u001b[38;5;241m=\u001b[39m np\u001b[38;5;241m.\u001b[39mrow_stack((a, b))\n",
      "File \u001b[0;32m<__array_function__ internals>:180\u001b[0m, in \u001b[0;36mcolumn_stack\u001b[0;34m(*args, **kwargs)\u001b[0m\n",
      "File \u001b[0;32m~/py_envs/mm/lib/python3.9/site-packages/numpy/lib/shape_base.py:656\u001b[0m, in \u001b[0;36mcolumn_stack\u001b[0;34m(tup)\u001b[0m\n\u001b[1;32m    654\u001b[0m         arr \u001b[38;5;241m=\u001b[39m array(arr, copy\u001b[38;5;241m=\u001b[39m\u001b[38;5;28;01mFalse\u001b[39;00m, subok\u001b[38;5;241m=\u001b[39m\u001b[38;5;28;01mTrue\u001b[39;00m, ndmin\u001b[38;5;241m=\u001b[39m\u001b[38;5;241m2\u001b[39m)\u001b[38;5;241m.\u001b[39mT\n\u001b[1;32m    655\u001b[0m     arrays\u001b[38;5;241m.\u001b[39mappend(arr)\n\u001b[0;32m--> 656\u001b[0m \u001b[38;5;28;01mreturn\u001b[39;00m \u001b[43m_nx\u001b[49m\u001b[38;5;241;43m.\u001b[39;49m\u001b[43mconcatenate\u001b[49m\u001b[43m(\u001b[49m\u001b[43marrays\u001b[49m\u001b[43m,\u001b[49m\u001b[43m \u001b[49m\u001b[38;5;241;43m1\u001b[39;49m\u001b[43m)\u001b[49m\n",
      "File \u001b[0;32m<__array_function__ internals>:180\u001b[0m, in \u001b[0;36mconcatenate\u001b[0;34m(*args, **kwargs)\u001b[0m\n",
      "\u001b[0;31mValueError\u001b[0m: all the input array dimensions for the concatenation axis must match exactly, but along dimension 0, the array at index 0 has size 187 and the array at index 1 has size 188"
     ]
    }
   ],
   "source": [
    "print(ss.spearmanr(prs4_controls.PRS, rtv_4dig))\n",
    "print(ss.spearmanr(prs4_controls.PRS, rtv_tot))"
   ]
  },
  {
   "cell_type": "code",
   "execution_count": 75,
   "id": "c326daea",
   "metadata": {},
   "outputs": [
    {
     "data": {
      "text/plain": [
       "(array([ 3.,  7., 16., 29., 38., 39., 29., 16.,  7.,  3.]),\n",
       " array([-2.71260974e+00, -2.17008779e+00, -1.62756584e+00, -1.08504389e+00,\n",
       "        -5.42521947e-01, -1.77635684e-15,  5.42521947e-01,  1.08504389e+00,\n",
       "         1.62756584e+00,  2.17008779e+00,  2.71260974e+00]),\n",
       " <BarContainer object of 10 artists>)"
      ]
     },
     "execution_count": 75,
     "metadata": {},
     "output_type": "execute_result"
    },
    {
     "data": {
      "image/png": "[encoded data removed]",
      "text/plain": [
       "<Figure size 432x288 with 1 Axes>"
      ]
     },
     "metadata": {
      "needs_background": "light"
     },
     "output_type": "display_data"
    }
   ],
   "source": [
    "plt.hist(rtv_4dig)"
   ]
  },
  {
   "cell_type": "code",
   "execution_count": 76,
   "id": "400de244",
   "metadata": {},
   "outputs": [
    {
     "data": {
      "text/plain": [
       "(array([ 1.,  6., 15., 44., 49., 31., 20., 13.,  6.,  2.]),\n",
       " array([ 17.34935157,  41.10708322,  64.86481486,  88.6225465 ,\n",
       "        112.38027815, 136.13800979, 159.89574143, 183.65347308,\n",
       "        207.41120472, 231.16893636, 254.92666801]),\n",
       " <BarContainer object of 10 artists>)"
      ]
     },
     "execution_count": 76,
     "metadata": {},
     "output_type": "execute_result"
    },
    {
     "data": {
      "image/png": "[encoded data removed]",
      "text/plain": [
       "<Figure size 432x288 with 1 Axes>"
      ]
     },
     "metadata": {
      "needs_background": "light"
     },
     "output_type": "display_data"
    }
   ],
   "source": [
    "plt.hist(prs4_controls.RTV_4dig)"
   ]
  },
  {
   "cell_type": "code",
   "execution_count": 127,
   "id": "5060eb55",
   "metadata": {},
   "outputs": [],
   "source": [
    "isd_irnt = pd.read_csv(\"/cluster/projects/p33/users/alexeas/ukb/pheno/processed/test.irnt.csv\")"
   ]
  },
  {
   "cell_type": "code",
   "execution_count": 131,
   "id": "52f9b510",
   "metadata": {},
   "outputs": [
    {
     "data": {
      "image/png": "[encoded data removed]",
      "text/plain": [
       "<Figure size 432x288 with 1 Axes>"
      ]
     },
     "metadata": {
      "needs_background": "light"
     },
     "output_type": "display_data"
    }
   ],
   "source": [
    "_=plt.hist(isd_irnt.x,100)"
   ]
  },
  {
   "cell_type": "code",
   "execution_count": 130,
   "id": "43da2106",
   "metadata": {},
   "outputs": [
    {
     "data": {
      "text/plain": [
       "Unnamed: 0    490461.000000\n",
       "x                  4.704201\n",
       "dtype: float64"
      ]
     },
     "execution_count": 130,
     "metadata": {},
     "output_type": "execute_result"
    }
   ],
   "source": [
    "isd_irnt.max()"
   ]
  },
  {
   "cell_type": "code",
   "execution_count": 132,
   "id": "f950ec89",
   "metadata": {},
   "outputs": [],
   "source": [
    "\n",
    "def rint(series, c=3.0/8):\n",
    "    # c = 3/8 is default in many software packages, it's called Blom ranked-based inverse normal transform\n",
    "    series_rint = series.copy()\n",
    "    i_notna = series.notna()\n",
    "    rank = ss.rankdata(series.loc[i_notna], method=\"average\") # average ordinal\n",
    "    n = len(rank)\n",
    "    series_rint.loc[i_notna] = ss.norm.ppf( (rank - c) / (n - 2*c + 1) )\n",
    "    return series_rint"
   ]
  },
  {
   "cell_type": "code",
   "execution_count": 133,
   "id": "5aa96be4",
   "metadata": {},
   "outputs": [],
   "source": [
    "isd = pd.read_csv(\"/cluster/projects/p33/users/alexeas/ukb/pheno/processed/ISD.tsv.gz\",sep='\\t')"
   ]
  },
  {
   "cell_type": "code",
   "execution_count": 135,
   "id": "531dc869",
   "metadata": {},
   "outputs": [],
   "source": [
    "isd_irnt_my = rint(isd.ISD)"
   ]
  },
  {
   "cell_type": "code",
   "execution_count": 136,
   "id": "a946bca7",
   "metadata": {},
   "outputs": [
    {
     "data": {
      "text/plain": [
       "0    1.393701\n",
       "1    0.961805\n",
       "2   -2.059173\n",
       "3    0.625006\n",
       "4    0.228848\n",
       "Name: ISD, dtype: float64"
      ]
     },
     "execution_count": 136,
     "metadata": {},
     "output_type": "execute_result"
    }
   ],
   "source": [
    "isd_irnt_my.head()"
   ]
  },
  {
   "cell_type": "code",
   "execution_count": 139,
   "id": "ec03fe91",
   "metadata": {},
   "outputs": [
    {
     "data": {
      "text/plain": [
       "<matplotlib.collections.PathCollection at 0x7f2280193fd0>"
      ]
     },
     "execution_count": 139,
     "metadata": {},
     "output_type": "execute_result"
    },
    {
     "data": {
      "image/png": "[encoded data removed]",
      "text/plain": [
       "<Figure size 432x288 with 1 Axes>"
      ]
     },
     "metadata": {
      "needs_background": "light"
     },
     "output_type": "display_data"
    }
   ],
   "source": [
    "plt.scatter(isd_irnt.x, isd_irnt_my)"
   ]
  },
  {
   "cell_type": "code",
   "execution_count": 8,
   "id": "876d45da",
   "metadata": {},
   "outputs": [],
   "source": [
    "\n",
    "\n",
    "@cuda.jit\n",
    "\n",
    "def f(a, b, c):\n",
    "\n",
    "    # like threadIdx.x + (blockIdx.x * blockDim.x)\n",
    "\n",
    "    tid = cuda.grid(1)\n",
    "\n",
    "    size = len(c)\n",
    "\n",
    "\n",
    "    if tid < size:\n",
    "\n",
    "        c[tid] = a[tid] + b[tid]\n"
   ]
  },
  {
   "cell_type": "code",
   "execution_count": 9,
   "id": "65a883f1",
   "metadata": {},
   "outputs": [],
   "source": [
    "N = 100000\n",
    "\n",
    "a = cuda.to_device(np.random.random(N))\n",
    "\n",
    "b = cuda.to_device(np.random.random(N))\n",
    "\n",
    "c = cuda.device_array_like(a)"
   ]
  },
  {
   "cell_type": "code",
   "execution_count": 11,
   "id": "dc2f995d",
   "metadata": {},
   "outputs": [
    {
     "name": "stdout",
     "output_type": "stream",
     "text": [
      "[1.44203743 0.65384804 1.57047409 ... 1.30084129 0.99504215 1.61514773]\n"
     ]
    }
   ],
   "source": [
    "f.forall(len(a))(a, b, c)\n",
    "\n",
    "print(c.copy_to_host())"
   ]
  },
  {
   "cell_type": "code",
   "execution_count": null,
   "id": "1ee66c72",
   "metadata": {},
   "outputs": [],
   "source": []
  }
 ],
 "metadata": {
  "kernelspec": {
   "display_name": "Python 3 (ipykernel)",
   "language": "python",
   "name": "python3"
  },
  "language_info": {
   "codemirror_mode": {
    "name": "ipython",
    "version": 3
   },
   "file_extension": ".py",
   "mimetype": "text/x-python",
   "name": "python",
   "nbconvert_exporter": "python",
   "pygments_lexer": "ipython3",
   "version": "3.9.12"
  }
 },
 "nbformat": 4,
 "nbformat_minor": 5
}
