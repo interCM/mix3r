{
 "cells": [
  {
   "cell_type": "code",
   "execution_count": 2,
   "id": "b144a6cb",
   "metadata": {},
   "outputs": [],
   "source": [
    "import numpy as np\n",
    "import numba as nb\n",
    "from scipy.integrate import quad"
   ]
  },
  {
   "cell_type": "code",
   "execution_count": 117,
   "id": "da088b61",
   "metadata": {},
   "outputs": [],
   "source": [
    "@nb.njit\n",
    "def ch_func1(x, s2):\n",
    "    return np.exp(-x*x/s2)\n",
    "\n",
    "@nb.njit\n",
    "def int_func1(x, z0, s2):\n",
    "    res = np.cos(z0*x)*ch_func1(x, s2)\n",
    "    return res"
   ]
  },
  {
   "cell_type": "code",
   "execution_count": 237,
   "id": "531f6df4",
   "metadata": {},
   "outputs": [],
   "source": [
    "@nb.njit\n",
    "def trapezoid(z0, s2):\n",
    "    h = 5E-2\n",
    "    a, fa = 0, 1\n",
    "    tol = 1E-8\n",
    "    res = 0\n",
    "    while True:\n",
    "        b = a + h\n",
    "        ch_fb = ch_func1(b, s2)\n",
    "        if ch_fb < tol:\n",
    "            break\n",
    "        else:\n",
    "            fb = np.cos(z0*b)*ch_fb\n",
    "            res += (fa + fb)\n",
    "            a, fa = b, fb\n",
    "    return 0.5*h*res"
   ]
  },
  {
   "cell_type": "code",
   "execution_count": 248,
   "id": "20009cf9",
   "metadata": {},
   "outputs": [
    {
     "data": {
      "text/plain": [
       "(0.0017108204338765927, 3.002240021587442e-10)"
      ]
     },
     "execution_count": 248,
     "metadata": {},
     "output_type": "execute_result"
    }
   ],
   "source": [
    "z0 = 5\n",
    "s2 = 1\n",
    "args = (z0, s2)\n",
    "quad(int_func1, 0, np.inf, args)"
   ]
  },
  {
   "cell_type": "code",
   "execution_count": 249,
   "id": "ee663238",
   "metadata": {},
   "outputs": [
    {
     "data": {
      "text/plain": [
       "0.0017108218416438592"
      ]
     },
     "execution_count": 249,
     "metadata": {},
     "output_type": "execute_result"
    }
   ],
   "source": [
    "trapezoid(z0, s2)"
   ]
  },
  {
   "cell_type": "code",
   "execution_count": 250,
   "id": "5ae8b231",
   "metadata": {},
   "outputs": [
    {
     "name": "stdout",
     "output_type": "stream",
     "text": [
      "124 µs ± 3.23 µs per loop (mean ± std. dev. of 7 runs, 10,000 loops each)\n"
     ]
    }
   ],
   "source": [
    "%timeit quad(int_func1, 0, np.inf, args)"
   ]
  },
  {
   "cell_type": "code",
   "execution_count": 251,
   "id": "a847768d",
   "metadata": {},
   "outputs": [
    {
     "name": "stdout",
     "output_type": "stream",
     "text": [
      "3.44 µs ± 279 ns per loop (mean ± std. dev. of 7 runs, 100,000 loops each)\n"
     ]
    }
   ],
   "source": [
    "%timeit trapezoid(z0, s2)"
   ]
  },
  {
   "cell_type": "code",
   "execution_count": null,
   "id": "29967bee",
   "metadata": {},
   "outputs": [],
   "source": []
  }
 ],
 "metadata": {
  "kernelspec": {
   "display_name": "Python 3 (ipykernel)",
   "language": "python",
   "name": "python3"
  },
  "language_info": {
   "codemirror_mode": {
    "name": "ipython",
    "version": 3
   },
   "file_extension": ".py",
   "mimetype": "text/x-python",
   "name": "python",
   "nbconvert_exporter": "python",
   "pygments_lexer": "ipython3",
   "version": "3.10.6"
  }
 },
 "nbformat": 4,
 "nbformat_minor": 5
}
